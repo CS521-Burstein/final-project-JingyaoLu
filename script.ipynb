{
 "cells": [
  {
   "cell_type": "code",
   "execution_count": 1,
   "id": "e8c9faf6",
   "metadata": {},
   "outputs": [],
   "source": [
    "import requests"
   ]
  },
  {
   "cell_type": "code",
   "execution_count": 2,
   "id": "c8b5cee3",
   "metadata": {},
   "outputs": [],
   "source": [
    "url = \"https://www.kaggle.com/datasets/timmofeyy/-cerial-prices-changes-within-last-30-years?select=rice_wheat_corn_prices.csv\""
   ]
  },
  {
   "cell_type": "code",
   "execution_count": 3,
   "id": "5f54a7fe",
   "metadata": {},
   "outputs": [],
   "source": [
    "r = requests.get(url, allow_redirects = True)"
   ]
  },
  {
   "cell_type": "code",
   "execution_count": 4,
   "id": "f1419f5e",
   "metadata": {},
   "outputs": [],
   "source": [
    "content = r.content"
   ]
  },
  {
   "cell_type": "code",
   "execution_count": 5,
   "id": "f7640365",
   "metadata": {},
   "outputs": [],
   "source": [
    "file = \"rice_wheat_corn_prices.csv\""
   ]
  },
  {
   "cell_type": "code",
   "execution_count": 6,
   "id": "864813f0",
   "metadata": {},
   "outputs": [
    {
     "data": {
      "text/plain": [
       "15622"
      ]
     },
     "execution_count": 6,
     "metadata": {},
     "output_type": "execute_result"
    }
   ],
   "source": [
    "open(file, 'wb').write(content)"
   ]
  },
  {
   "cell_type": "code",
   "execution_count": null,
   "id": "4fefc406",
   "metadata": {},
   "outputs": [],
   "source": []
  }
 ],
 "metadata": {
  "kernelspec": {
   "display_name": "Python 3 (ipykernel)",
   "language": "python",
   "name": "python3"
  },
  "language_info": {
   "codemirror_mode": {
    "name": "ipython",
    "version": 3
   },
   "file_extension": ".py",
   "mimetype": "text/x-python",
   "name": "python",
   "nbconvert_exporter": "python",
   "pygments_lexer": "ipython3",
   "version": "3.9.7"
  }
 },
 "nbformat": 4,
 "nbformat_minor": 5
}