{
 "cells": [
  {
   "cell_type": "code",
   "execution_count": 2,
   "id": "84c3706d",
   "metadata": {},
   "outputs": [],
   "source": [
    "import requests"
   ]
  },
  {
   "cell_type": "code",
   "execution_count": 3,
   "id": "731c5d53",
   "metadata": {},
   "outputs": [],
   "source": [
    "import numpy as np\n",
    "import pandas as pd\n",
    "import matplotlib.pyplot as plt\n",
    "import seaborn as sns\n",
    "%matplotlib inline"
   ]
  },
  {
   "cell_type": "code",
   "execution_count": 4,
   "id": "55fc5dc5",
   "metadata": {},
   "outputs": [
    {
     "data": {
      "text/html": [
       "<div>\n",
       "<style scoped>\n",
       "    .dataframe tbody tr th:only-of-type {\n",
       "        vertical-align: middle;\n",
       "    }\n",
       "\n",
       "    .dataframe tbody tr th {\n",
       "        vertical-align: top;\n",
       "    }\n",
       "\n",
       "    .dataframe thead th {\n",
       "        text-align: right;\n",
       "    }\n",
       "</style>\n",
       "<table border=\"1\" class=\"dataframe\">\n",
       "  <thead>\n",
       "    <tr style=\"text-align: right;\">\n",
       "      <th></th>\n",
       "      <th>Year</th>\n",
       "      <th>Month</th>\n",
       "      <th>Price_wheat_ton</th>\n",
       "      <th>Price_rice_ton</th>\n",
       "      <th>Price_corn_ton</th>\n",
       "      <th>Inflation_rate</th>\n",
       "      <th>Price_wheat_ton_infl</th>\n",
       "      <th>Price_rice_ton_infl</th>\n",
       "      <th>Price_corn_ton_infl</th>\n",
       "    </tr>\n",
       "  </thead>\n",
       "  <tbody>\n",
       "    <tr>\n",
       "      <th>0</th>\n",
       "      <td>1992</td>\n",
       "      <td>Feb</td>\n",
       "      <td>170.12</td>\n",
       "      <td>278.25</td>\n",
       "      <td>113.62</td>\n",
       "      <td>89.59</td>\n",
       "      <td>322.53</td>\n",
       "      <td>527.53</td>\n",
       "      <td>215.41</td>\n",
       "    </tr>\n",
       "    <tr>\n",
       "      <th>1</th>\n",
       "      <td>1992</td>\n",
       "      <td>Mar</td>\n",
       "      <td>161.44</td>\n",
       "      <td>277.20</td>\n",
       "      <td>117.00</td>\n",
       "      <td>89.59</td>\n",
       "      <td>306.07</td>\n",
       "      <td>525.54</td>\n",
       "      <td>221.82</td>\n",
       "    </tr>\n",
       "    <tr>\n",
       "      <th>2</th>\n",
       "      <td>1992</td>\n",
       "      <td>Apr</td>\n",
       "      <td>153.07</td>\n",
       "      <td>278.00</td>\n",
       "      <td>108.52</td>\n",
       "      <td>89.59</td>\n",
       "      <td>290.21</td>\n",
       "      <td>527.06</td>\n",
       "      <td>205.74</td>\n",
       "    </tr>\n",
       "    <tr>\n",
       "      <th>3</th>\n",
       "      <td>1992</td>\n",
       "      <td>May</td>\n",
       "      <td>139.72</td>\n",
       "      <td>274.00</td>\n",
       "      <td>109.64</td>\n",
       "      <td>89.59</td>\n",
       "      <td>264.90</td>\n",
       "      <td>519.48</td>\n",
       "      <td>207.87</td>\n",
       "    </tr>\n",
       "    <tr>\n",
       "      <th>4</th>\n",
       "      <td>1992</td>\n",
       "      <td>Jun</td>\n",
       "      <td>140.36</td>\n",
       "      <td>268.80</td>\n",
       "      <td>110.90</td>\n",
       "      <td>89.59</td>\n",
       "      <td>266.11</td>\n",
       "      <td>509.62</td>\n",
       "      <td>210.26</td>\n",
       "    </tr>\n",
       "    <tr>\n",
       "      <th>...</th>\n",
       "      <td>...</td>\n",
       "      <td>...</td>\n",
       "      <td>...</td>\n",
       "      <td>...</td>\n",
       "      <td>...</td>\n",
       "      <td>...</td>\n",
       "      <td>...</td>\n",
       "      <td>...</td>\n",
       "      <td>...</td>\n",
       "    </tr>\n",
       "    <tr>\n",
       "      <th>355</th>\n",
       "      <td>2021</td>\n",
       "      <td>Sep</td>\n",
       "      <td>263.60</td>\n",
       "      <td>400.00</td>\n",
       "      <td>235.62</td>\n",
       "      <td>-1.29</td>\n",
       "      <td>260.20</td>\n",
       "      <td>394.84</td>\n",
       "      <td>232.58</td>\n",
       "    </tr>\n",
       "    <tr>\n",
       "      <th>356</th>\n",
       "      <td>2021</td>\n",
       "      <td>Oct</td>\n",
       "      <td>334.50</td>\n",
       "      <td>401.00</td>\n",
       "      <td>239.65</td>\n",
       "      <td>-1.29</td>\n",
       "      <td>330.18</td>\n",
       "      <td>395.83</td>\n",
       "      <td>236.56</td>\n",
       "    </tr>\n",
       "    <tr>\n",
       "      <th>357</th>\n",
       "      <td>2021</td>\n",
       "      <td>Nov</td>\n",
       "      <td>327.82</td>\n",
       "      <td>400.00</td>\n",
       "      <td>248.72</td>\n",
       "      <td>-1.29</td>\n",
       "      <td>323.59</td>\n",
       "      <td>394.84</td>\n",
       "      <td>245.51</td>\n",
       "    </tr>\n",
       "    <tr>\n",
       "      <th>358</th>\n",
       "      <td>2021</td>\n",
       "      <td>Dec</td>\n",
       "      <td>332.06</td>\n",
       "      <td>400.00</td>\n",
       "      <td>264.54</td>\n",
       "      <td>-1.29</td>\n",
       "      <td>327.78</td>\n",
       "      <td>394.84</td>\n",
       "      <td>261.13</td>\n",
       "    </tr>\n",
       "    <tr>\n",
       "      <th>359</th>\n",
       "      <td>2022</td>\n",
       "      <td>Jan</td>\n",
       "      <td>NaN</td>\n",
       "      <td>427.00</td>\n",
       "      <td>276.62</td>\n",
       "      <td>NaN</td>\n",
       "      <td>NaN</td>\n",
       "      <td>NaN</td>\n",
       "      <td>NaN</td>\n",
       "    </tr>\n",
       "  </tbody>\n",
       "</table>\n",
       "<p>360 rows × 9 columns</p>\n",
       "</div>"
      ],
      "text/plain": [
       "     Year Month  Price_wheat_ton  Price_rice_ton  Price_corn_ton  \\\n",
       "0    1992   Feb           170.12          278.25          113.62   \n",
       "1    1992   Mar           161.44          277.20          117.00   \n",
       "2    1992   Apr           153.07          278.00          108.52   \n",
       "3    1992   May           139.72          274.00          109.64   \n",
       "4    1992   Jun           140.36          268.80          110.90   \n",
       "..    ...   ...              ...             ...             ...   \n",
       "355  2021   Sep           263.60          400.00          235.62   \n",
       "356  2021   Oct           334.50          401.00          239.65   \n",
       "357  2021   Nov           327.82          400.00          248.72   \n",
       "358  2021   Dec           332.06          400.00          264.54   \n",
       "359  2022   Jan              NaN          427.00          276.62   \n",
       "\n",
       "     Inflation_rate  Price_wheat_ton_infl  Price_rice_ton_infl  \\\n",
       "0             89.59                322.53               527.53   \n",
       "1             89.59                306.07               525.54   \n",
       "2             89.59                290.21               527.06   \n",
       "3             89.59                264.90               519.48   \n",
       "4             89.59                266.11               509.62   \n",
       "..              ...                   ...                  ...   \n",
       "355           -1.29                260.20               394.84   \n",
       "356           -1.29                330.18               395.83   \n",
       "357           -1.29                323.59               394.84   \n",
       "358           -1.29                327.78               394.84   \n",
       "359             NaN                   NaN                  NaN   \n",
       "\n",
       "     Price_corn_ton_infl  \n",
       "0                 215.41  \n",
       "1                 221.82  \n",
       "2                 205.74  \n",
       "3                 207.87  \n",
       "4                 210.26  \n",
       "..                   ...  \n",
       "355               232.58  \n",
       "356               236.56  \n",
       "357               245.51  \n",
       "358               261.13  \n",
       "359                  NaN  \n",
       "\n",
       "[360 rows x 9 columns]"
      ]
     },
     "execution_count": 4,
     "metadata": {},
     "output_type": "execute_result"
    }
   ],
   "source": [
    "dataset= pd.read_csv('rice_wheat_corn_prices.csv')\n",
    "dataset"
   ]
  },
  {
   "cell_type": "code",
   "execution_count": 5,
   "id": "429db9b0",
   "metadata": {},
   "outputs": [
    {
     "data": {
      "text/plain": [
       "Index(['Year', 'Month', 'Price_wheat_ton', 'Price_rice_ton', 'Price_corn_ton',\n",
       "       'Inflation_rate', 'Price_wheat_ton_infl', 'Price_rice_ton_infl',\n",
       "       'Price_corn_ton_infl'],\n",
       "      dtype='object')"
      ]
     },
     "execution_count": 5,
     "metadata": {},
     "output_type": "execute_result"
    }
   ],
   "source": [
    "dataset.columns"
   ]
  },
  {
   "cell_type": "code",
   "execution_count": 6,
   "id": "d5f5562c",
   "metadata": {},
   "outputs": [
    {
     "data": {
      "text/plain": [
       "27000"
      ]
     },
     "execution_count": 6,
     "metadata": {},
     "output_type": "execute_result"
    }
   ],
   "source": [
    "len(dataset.columns)*3000"
   ]
  },
  {
   "cell_type": "code",
   "execution_count": 7,
   "id": "d42551bf",
   "metadata": {},
   "outputs": [],
   "source": [
    "## dataset.groupby('Year').count()"
   ]
  },
  {
   "cell_type": "code",
   "execution_count": 8,
   "id": "5477c970",
   "metadata": {
    "scrolled": true
   },
   "outputs": [
    {
     "data": {
      "text/html": [
       "<div>\n",
       "<style scoped>\n",
       "    .dataframe tbody tr th:only-of-type {\n",
       "        vertical-align: middle;\n",
       "    }\n",
       "\n",
       "    .dataframe tbody tr th {\n",
       "        vertical-align: top;\n",
       "    }\n",
       "\n",
       "    .dataframe thead th {\n",
       "        text-align: right;\n",
       "    }\n",
       "</style>\n",
       "<table border=\"1\" class=\"dataframe\">\n",
       "  <thead>\n",
       "    <tr style=\"text-align: right;\">\n",
       "      <th></th>\n",
       "      <th>Year</th>\n",
       "      <th>Month</th>\n",
       "      <th>Price_wheat_ton</th>\n",
       "      <th>Price_rice_ton</th>\n",
       "      <th>Price_corn_ton</th>\n",
       "      <th>Inflation_rate</th>\n",
       "      <th>Price_wheat_ton_infl</th>\n",
       "      <th>Price_rice_ton_infl</th>\n",
       "      <th>Price_corn_ton_infl</th>\n",
       "    </tr>\n",
       "  </thead>\n",
       "  <tbody>\n",
       "    <tr>\n",
       "      <th>101</th>\n",
       "      <td>2000</td>\n",
       "      <td>Jul</td>\n",
       "      <td>91.17</td>\n",
       "      <td>189.00</td>\n",
       "      <td>75.27</td>\n",
       "      <td>54.49</td>\n",
       "      <td>140.85</td>\n",
       "      <td>291.99</td>\n",
       "      <td>116.28</td>\n",
       "    </tr>\n",
       "    <tr>\n",
       "      <th>102</th>\n",
       "      <td>2000</td>\n",
       "      <td>Aug</td>\n",
       "      <td>90.87</td>\n",
       "      <td>186.50</td>\n",
       "      <td>75.58</td>\n",
       "      <td>54.49</td>\n",
       "      <td>140.39</td>\n",
       "      <td>288.12</td>\n",
       "      <td>116.76</td>\n",
       "    </tr>\n",
       "    <tr>\n",
       "      <th>103</th>\n",
       "      <td>2000</td>\n",
       "      <td>Sep</td>\n",
       "      <td>97.88</td>\n",
       "      <td>179.00</td>\n",
       "      <td>80.43</td>\n",
       "      <td>54.49</td>\n",
       "      <td>151.21</td>\n",
       "      <td>276.54</td>\n",
       "      <td>124.26</td>\n",
       "    </tr>\n",
       "    <tr>\n",
       "      <th>112</th>\n",
       "      <td>2001</td>\n",
       "      <td>Jun</td>\n",
       "      <td>97.42</td>\n",
       "      <td>168.00</td>\n",
       "      <td>83.31</td>\n",
       "      <td>50.24</td>\n",
       "      <td>146.36</td>\n",
       "      <td>252.40</td>\n",
       "      <td>125.16</td>\n",
       "    </tr>\n",
       "    <tr>\n",
       "      <th>89</th>\n",
       "      <td>1999</td>\n",
       "      <td>Jul</td>\n",
       "      <td>85.30</td>\n",
       "      <td>259.00</td>\n",
       "      <td>83.99</td>\n",
       "      <td>59.70</td>\n",
       "      <td>136.22</td>\n",
       "      <td>413.62</td>\n",
       "      <td>134.13</td>\n",
       "    </tr>\n",
       "    <tr>\n",
       "      <th>...</th>\n",
       "      <td>...</td>\n",
       "      <td>...</td>\n",
       "      <td>...</td>\n",
       "      <td>...</td>\n",
       "      <td>...</td>\n",
       "      <td>...</td>\n",
       "      <td>...</td>\n",
       "      <td>...</td>\n",
       "      <td>...</td>\n",
       "    </tr>\n",
       "    <tr>\n",
       "      <th>247</th>\n",
       "      <td>2012</td>\n",
       "      <td>Sep</td>\n",
       "      <td>343.55</td>\n",
       "      <td>563.25</td>\n",
       "      <td>320.85</td>\n",
       "      <td>15.87</td>\n",
       "      <td>398.07</td>\n",
       "      <td>652.64</td>\n",
       "      <td>371.77</td>\n",
       "    </tr>\n",
       "    <tr>\n",
       "      <th>248</th>\n",
       "      <td>2012</td>\n",
       "      <td>Oct</td>\n",
       "      <td>340.25</td>\n",
       "      <td>558.25</td>\n",
       "      <td>321.24</td>\n",
       "      <td>15.87</td>\n",
       "      <td>394.25</td>\n",
       "      <td>646.84</td>\n",
       "      <td>372.22</td>\n",
       "    </tr>\n",
       "    <tr>\n",
       "      <th>249</th>\n",
       "      <td>2012</td>\n",
       "      <td>Nov</td>\n",
       "      <td>346.49</td>\n",
       "      <td>559.25</td>\n",
       "      <td>321.64</td>\n",
       "      <td>15.87</td>\n",
       "      <td>401.48</td>\n",
       "      <td>648.00</td>\n",
       "      <td>372.68</td>\n",
       "    </tr>\n",
       "    <tr>\n",
       "      <th>246</th>\n",
       "      <td>2012</td>\n",
       "      <td>Aug</td>\n",
       "      <td>333.73</td>\n",
       "      <td>567.75</td>\n",
       "      <td>331.99</td>\n",
       "      <td>15.87</td>\n",
       "      <td>386.69</td>\n",
       "      <td>657.85</td>\n",
       "      <td>384.68</td>\n",
       "    </tr>\n",
       "    <tr>\n",
       "      <th>245</th>\n",
       "      <td>2012</td>\n",
       "      <td>Jul</td>\n",
       "      <td>322.98</td>\n",
       "      <td>573.75</td>\n",
       "      <td>333.05</td>\n",
       "      <td>15.87</td>\n",
       "      <td>374.24</td>\n",
       "      <td>664.80</td>\n",
       "      <td>385.91</td>\n",
       "    </tr>\n",
       "  </tbody>\n",
       "</table>\n",
       "<p>360 rows × 9 columns</p>\n",
       "</div>"
      ],
      "text/plain": [
       "     Year Month  Price_wheat_ton  Price_rice_ton  Price_corn_ton  \\\n",
       "101  2000   Jul            91.17          189.00           75.27   \n",
       "102  2000   Aug            90.87          186.50           75.58   \n",
       "103  2000   Sep            97.88          179.00           80.43   \n",
       "112  2001   Jun            97.42          168.00           83.31   \n",
       "89   1999   Jul            85.30          259.00           83.99   \n",
       "..    ...   ...              ...             ...             ...   \n",
       "247  2012   Sep           343.55          563.25          320.85   \n",
       "248  2012   Oct           340.25          558.25          321.24   \n",
       "249  2012   Nov           346.49          559.25          321.64   \n",
       "246  2012   Aug           333.73          567.75          331.99   \n",
       "245  2012   Jul           322.98          573.75          333.05   \n",
       "\n",
       "     Inflation_rate  Price_wheat_ton_infl  Price_rice_ton_infl  \\\n",
       "101           54.49                140.85               291.99   \n",
       "102           54.49                140.39               288.12   \n",
       "103           54.49                151.21               276.54   \n",
       "112           50.24                146.36               252.40   \n",
       "89            59.70                136.22               413.62   \n",
       "..              ...                   ...                  ...   \n",
       "247           15.87                398.07               652.64   \n",
       "248           15.87                394.25               646.84   \n",
       "249           15.87                401.48               648.00   \n",
       "246           15.87                386.69               657.85   \n",
       "245           15.87                374.24               664.80   \n",
       "\n",
       "     Price_corn_ton_infl  \n",
       "101               116.28  \n",
       "102               116.76  \n",
       "103               124.26  \n",
       "112               125.16  \n",
       "89                134.13  \n",
       "..                   ...  \n",
       "247               371.77  \n",
       "248               372.22  \n",
       "249               372.68  \n",
       "246               384.68  \n",
       "245               385.91  \n",
       "\n",
       "[360 rows x 9 columns]"
      ]
     },
     "execution_count": 8,
     "metadata": {},
     "output_type": "execute_result"
    }
   ],
   "source": [
    "dataset.sort_values(by='Price_corn_ton')"
   ]
  },
  {
   "cell_type": "code",
   "execution_count": 54,
   "id": "e2489c45",
   "metadata": {},
   "outputs": [
    {
     "data": {
      "image/png": "[encoded data removed]",
      "text/plain": [
       "<Figure size 432x288 with 1 Axes>"
      ]
     },
     "metadata": {
      "needs_background": "light"
     },
     "output_type": "display_data"
    }
   ],
   "source": [
    "sns.histplot(data=dataset, x=\"Inflation_rate\",bins=30);"
   ]
  },
  {
   "cell_type": "code",
   "execution_count": 55,
   "id": "38fb5096",
   "metadata": {},
   "outputs": [
    {
     "data": {
      "image/png": "[encoded data removed]",
      "text/plain": [
       "<Figure size 360x360 with 1 Axes>"
      ]
     },
     "metadata": {
      "needs_background": "light"
     },
     "output_type": "display_data"
    }
   ],
   "source": [
    "grouped_by_year_wheat = dataset.groupby('Year').sum()\n",
    "sns.relplot(x='Year', y='Price_wheat_ton', data = grouped_by_year_wheat);"
   ]
  },
  {
   "cell_type": "markdown",
   "id": "5c31ce14",
   "metadata": {},
   "source": [
    "figure above is the sum of prices in each year. first we can notice that the year 2022 is low  and that the maximum sum in a year was in around 2012"
   ]
  },
  {
   "cell_type": "code",
   "execution_count": 13,
   "id": "be771ca8",
   "metadata": {},
   "outputs": [
    {
     "data": {
      "image/png": "[encoded data removed]",
      "text/plain": [
       "<Figure size 432x288 with 1 Axes>"
      ]
     },
     "metadata": {
      "needs_background": "light"
     },
     "output_type": "display_data"
    }
   ],
   "source": [
    "sns.boxplot(y=dataset.Price_corn_ton);"
   ]
  },
  {
   "cell_type": "code",
   "execution_count": 14,
   "id": "41c3399e",
   "metadata": {},
   "outputs": [],
   "source": [
    "xs=list(dataset.Year)"
   ]
  },
  {
   "cell_type": "code",
   "execution_count": 15,
   "id": "320eecce",
   "metadata": {},
   "outputs": [],
   "source": [
    "ys=list(dataset.Inflation_rate)"
   ]
  },
  {
   "cell_type": "code",
   "execution_count": 16,
   "id": "8fe1c574",
   "metadata": {},
   "outputs": [
    {
     "data": {
      "image/png": "[encoded data removed]",
      "text/plain": [
       "<Figure size 432x288 with 1 Axes>"
      ]
     },
     "metadata": {
      "needs_background": "light"
     },
     "output_type": "display_data"
    }
   ],
   "source": [
    "plt.plot(xs,ys)\n",
    "plt.grid()\n",
    "plt.show()"
   ]
  },
  {
   "cell_type": "code",
   "execution_count": 17,
   "id": "ab07cf17",
   "metadata": {},
   "outputs": [],
   "source": [
    "xs=list(dataset.Year)"
   ]
  },
  {
   "cell_type": "code",
   "execution_count": 18,
   "id": "0b0aa170",
   "metadata": {},
   "outputs": [],
   "source": [
    "xs=list(dataset.Year)"
   ]
  },
  {
   "cell_type": "code",
   "execution_count": 19,
   "id": "0909f27b",
   "metadata": {},
   "outputs": [],
   "source": [
    "ys=list(dataset.Price_wheat_ton)"
   ]
  },
  {
   "cell_type": "code",
   "execution_count": 20,
   "id": "7f109e7f",
   "metadata": {},
   "outputs": [
    {
     "data": {
      "image/png": "[encoded data removed]",
      "text/plain": [
       "<Figure size 432x288 with 1 Axes>"
      ]
     },
     "metadata": {
      "needs_background": "light"
     },
     "output_type": "display_data"
    }
   ],
   "source": [
    "plt.bar(xs,ys)\n",
    "plt.grid()\n",
    "plt.ylim(0,100)\n",
    "\n",
    "plt.xlabel('Year')\n",
    "plt.ylabel('Price_wheat_ton')\n",
    "\n",
    "plt.show()"
   ]
  },
  {
   "cell_type": "code",
   "execution_count": 21,
   "id": "e7052a72",
   "metadata": {},
   "outputs": [],
   "source": [
    "xs=list(dataset.Price_corn_ton)"
   ]
  },
  {
   "cell_type": "code",
   "execution_count": 22,
   "id": "1d17854e",
   "metadata": {},
   "outputs": [],
   "source": [
    "ys=list(dataset.Price_corn_ton_infl)"
   ]
  },
  {
   "cell_type": "code",
   "execution_count": 23,
   "id": "fdda03ca",
   "metadata": {},
   "outputs": [
    {
     "data": {
      "text/plain": [
       "Text(0, 0.5, 'Price_corn_ton_infl')"
      ]
     },
     "execution_count": 23,
     "metadata": {},
     "output_type": "execute_result"
    },
    {
     "data": {
      "image/png": "[encoded data removed]",
      "text/plain": [
       "<Figure size 432x288 with 1 Axes>"
      ]
     },
     "metadata": {
      "needs_background": "light"
     },
     "output_type": "display_data"
    }
   ],
   "source": [
    "plt.barh(xs,ys,height = 4)\n",
    "plt.xlabel('Price_corn_ton')\n",
    "plt.ylabel('Price_corn_ton_infl')\n"
   ]
  },
  {
   "cell_type": "code",
   "execution_count": 24,
   "id": "61bcc05e",
   "metadata": {},
   "outputs": [],
   "source": [
    "xs=list(dataset.Price_wheat_ton)"
   ]
  },
  {
   "cell_type": "code",
   "execution_count": 25,
   "id": "2b793a4c",
   "metadata": {},
   "outputs": [],
   "source": [
    "ys=list(dataset.Price_wheat_ton_infl)\n"
   ]
  },
  {
   "cell_type": "code",
   "execution_count": 26,
   "id": "62c6d0b4",
   "metadata": {},
   "outputs": [
    {
     "data": {
      "image/png": "[encoded data removed]",
      "text/plain": [
       "<Figure size 432x288 with 1 Axes>"
      ]
     },
     "metadata": {
      "needs_background": "light"
     },
     "output_type": "display_data"
    }
   ],
   "source": [
    "plt.scatter(xs,ys)\n",
    "\n",
    "plt.ylim(0,600)\n",
    "\n",
    "plt.xlabel('Price_wheat_ton')\n",
    "plt.ylabel('Price_wheat_ton_infl')\n",
    "plt.show()\n"
   ]
  },
  {
   "cell_type": "code",
   "execution_count": 27,
   "id": "d63bf6bb",
   "metadata": {},
   "outputs": [],
   "source": [
    "xs=list(dataset.Year)\n"
   ]
  },
  {
   "cell_type": "code",
   "execution_count": 28,
   "id": "be38b47d",
   "metadata": {},
   "outputs": [],
   "source": [
    "ys=list(dataset.Price_corn_ton_infl)\n"
   ]
  },
  {
   "cell_type": "code",
   "execution_count": 29,
   "id": "206d918c",
   "metadata": {},
   "outputs": [
    {
     "data": {
      "image/png": "[encoded data removed]",
      "text/plain": [
       "<Figure size 432x288 with 1 Axes>"
      ]
     },
     "metadata": {
      "needs_background": "light"
     },
     "output_type": "display_data"
    }
   ],
   "source": [
    "plt.plot(xs,ys)\n",
    "plt.grid()\n",
    "plt.show()"
   ]
  },
  {
   "cell_type": "code",
   "execution_count": 30,
   "id": "36b2c8d1",
   "metadata": {},
   "outputs": [],
   "source": [
    "xs=list(dataset.Price_rice_ton)"
   ]
  },
  {
   "cell_type": "code",
   "execution_count": 31,
   "id": "f8ea3c16",
   "metadata": {},
   "outputs": [],
   "source": [
    "ys=list(dataset.Price_rice_ton_infl)"
   ]
  },
  {
   "cell_type": "code",
   "execution_count": 32,
   "id": "e5203e44",
   "metadata": {
    "scrolled": true
   },
   "outputs": [
    {
     "data": {
      "image/png": "[encoded data removed]",
      "text/plain": [
       "<Figure size 432x288 with 1 Axes>"
      ]
     },
     "metadata": {
      "needs_background": "light"
     },
     "output_type": "display_data"
    }
   ],
   "source": [
    "plt.scatter(xs,ys)\n",
    "plt.ylim(200,600)\n",
    "plt.show()"
   ]
  },
  {
   "cell_type": "markdown",
   "id": "7ba84c34",
   "metadata": {},
   "source": [
    "## New plots"
   ]
  },
  {
   "cell_type": "markdown",
   "id": "3aba05ad",
   "metadata": {},
   "source": [
    "### Lineplots"
   ]
  },
  {
   "cell_type": "code",
   "execution_count": 63,
   "id": "628077c7",
   "metadata": {
    "scrolled": true
   },
   "outputs": [
    {
     "data": {
      "image/png": "[encoded data removed]",
      "text/plain": [
       "<Figure size 432x288 with 1 Axes>"
      ]
     },
     "metadata": {
      "needs_background": "light"
     },
     "output_type": "display_data"
    }
   ],
   "source": [
    "sns.lineplot(x=\"Year\", y=\"Price_wheat_ton\",data=dataset)\n",
    "plt.title(\"Change of wheat price in last 30 years\", fontsize = 20);"
   ]
  },
  {
   "cell_type": "code",
   "execution_count": 62,
   "id": "c4044262",
   "metadata": {},
   "outputs": [
    {
     "data": {
      "image/png": "[encoded data removed]",
      "text/plain": [
       "<Figure size 432x288 with 1 Axes>"
      ]
     },
     "metadata": {
      "needs_background": "light"
     },
     "output_type": "display_data"
    }
   ],
   "source": [
    "sns.lineplot(x=\"Year\", y=\"Price_rice_ton\",data=dataset)\n",
    "plt.title(\"Change of rice price in last 30 years\", fontsize = 20);"
   ]
  },
  {
   "cell_type": "code",
   "execution_count": 61,
   "id": "4cc7f7ab",
   "metadata": {},
   "outputs": [
    {
     "data": {
      "image/png": "[encoded data removed]",
      "text/plain": [
       "<Figure size 432x288 with 1 Axes>"
      ]
     },
     "metadata": {
      "needs_background": "light"
     },
     "output_type": "display_data"
    }
   ],
   "source": [
    "sns.lineplot(x=\"Year\", y=\"Price_corn_ton\",data=dataset)\n",
    "plt.title(\"Change of corn price in last 30 years\", fontsize = 20);"
   ]
  },
  {
   "cell_type": "code",
   "execution_count": 60,
   "id": "f2d6796c",
   "metadata": {},
   "outputs": [
    {
     "data": {
      "image/png": "[encoded data removed]",
      "text/plain": [
       "<Figure size 432x288 with 1 Axes>"
      ]
     },
     "metadata": {
      "needs_background": "light"
     },
     "output_type": "display_data"
    }
   ],
   "source": [
    "sns.lineplot(x=\"Year\", y=\"Inflation_rate\",data=dataset)\n",
    "plt.title(\"Change of Inflation_rate in last 30 years\", fontsize = 20);"
   ]
  },
  {
   "cell_type": "markdown",
   "id": "fd4fd965",
   "metadata": {},
   "source": [
    "### barplot"
   ]
  },
  {
   "cell_type": "code",
   "execution_count": 58,
   "id": "289dffed",
   "metadata": {},
   "outputs": [
    {
     "data": {
      "image/png": "[encoded data removed]",
      "text/plain": [
       "<Figure size 432x288 with 1 Axes>"
      ]
     },
     "metadata": {
      "needs_background": "light"
     },
     "output_type": "display_data"
    }
   ],
   "source": [
    "sns.barplot(data = dataset, x = 'Year', y = 'Price_wheat_ton')\n",
    "plt.xticks(rotation=60);\n",
    "plt.title(\"Price of wheat in last 30 years\", fontsize = 20);"
   ]
  },
  {
   "cell_type": "code",
   "execution_count": 57,
   "id": "46223f0a",
   "metadata": {},
   "outputs": [
    {
     "data": {
      "image/png": "[encoded data removed]",
      "text/plain": [
       "<Figure size 432x288 with 1 Axes>"
      ]
     },
     "metadata": {
      "needs_background": "light"
     },
     "output_type": "display_data"
    }
   ],
   "source": [
    "sns.boxplot(y=dataset.Inflation_rate);\n",
    "plt.title(\" Overall Inflation_rate in last 30 years\", fontsize = 20);"
   ]
  },
  {
   "cell_type": "markdown",
   "id": "f10ca6de",
   "metadata": {},
   "source": [
    "## ML"
   ]
  },
  {
   "cell_type": "code",
   "execution_count": 7,
   "id": "5cf5b1ca",
   "metadata": {},
   "outputs": [
    {
     "data": {
      "text/plain": [
       "Index(['Year', 'Month', 'Price_wheat_ton', 'Price_rice_ton', 'Price_corn_ton',\n",
       "       'Inflation_rate', 'Price_wheat_ton_infl', 'Price_rice_ton_infl',\n",
       "       'Price_corn_ton_infl'],\n",
       "      dtype='object')"
      ]
     },
     "execution_count": 7,
     "metadata": {},
     "output_type": "execute_result"
    }
   ],
   "source": [
    "dataset.columns"
   ]
  },
  {
   "cell_type": "code",
   "execution_count": 169,
   "id": "e0f6b940",
   "metadata": {},
   "outputs": [],
   "source": [
    "dataset1 = dataset[[ 'Price_wheat_ton', 'Price_rice_ton', 'Price_corn_ton',\n",
    "       'Inflation_rate', 'Price_wheat_ton_infl', 'Price_rice_ton_infl',\n",
    "       'Price_corn_ton_infl']]"
   ]
  },
  {
   "cell_type": "code",
   "execution_count": 170,
   "id": "cfddc3a0",
   "metadata": {},
   "outputs": [],
   "source": [
    "dataset1 = dataset1.dropna()"
   ]
  },
  {
   "cell_type": "code",
   "execution_count": 171,
   "id": "4afe5e77",
   "metadata": {},
   "outputs": [
    {
     "data": {
      "text/html": [
       "<div>\n",
       "<style scoped>\n",
       "    .dataframe tbody tr th:only-of-type {\n",
       "        vertical-align: middle;\n",
       "    }\n",
       "\n",
       "    .dataframe tbody tr th {\n",
       "        vertical-align: top;\n",
       "    }\n",
       "\n",
       "    .dataframe thead th {\n",
       "        text-align: right;\n",
       "    }\n",
       "</style>\n",
       "<table border=\"1\" class=\"dataframe\">\n",
       "  <thead>\n",
       "    <tr style=\"text-align: right;\">\n",
       "      <th></th>\n",
       "      <th>Price_wheat_ton</th>\n",
       "      <th>Price_rice_ton</th>\n",
       "      <th>Price_corn_ton</th>\n",
       "      <th>Inflation_rate</th>\n",
       "      <th>Price_wheat_ton_infl</th>\n",
       "      <th>Price_rice_ton_infl</th>\n",
       "      <th>Price_corn_ton_infl</th>\n",
       "    </tr>\n",
       "  </thead>\n",
       "  <tbody>\n",
       "    <tr>\n",
       "      <th>0</th>\n",
       "      <td>170.12</td>\n",
       "      <td>278.25</td>\n",
       "      <td>113.62</td>\n",
       "      <td>89.59</td>\n",
       "      <td>322.53</td>\n",
       "      <td>527.53</td>\n",
       "      <td>215.41</td>\n",
       "    </tr>\n",
       "    <tr>\n",
       "      <th>1</th>\n",
       "      <td>161.44</td>\n",
       "      <td>277.20</td>\n",
       "      <td>117.00</td>\n",
       "      <td>89.59</td>\n",
       "      <td>306.07</td>\n",
       "      <td>525.54</td>\n",
       "      <td>221.82</td>\n",
       "    </tr>\n",
       "    <tr>\n",
       "      <th>2</th>\n",
       "      <td>153.07</td>\n",
       "      <td>278.00</td>\n",
       "      <td>108.52</td>\n",
       "      <td>89.59</td>\n",
       "      <td>290.21</td>\n",
       "      <td>527.06</td>\n",
       "      <td>205.74</td>\n",
       "    </tr>\n",
       "    <tr>\n",
       "      <th>3</th>\n",
       "      <td>139.72</td>\n",
       "      <td>274.00</td>\n",
       "      <td>109.64</td>\n",
       "      <td>89.59</td>\n",
       "      <td>264.90</td>\n",
       "      <td>519.48</td>\n",
       "      <td>207.87</td>\n",
       "    </tr>\n",
       "    <tr>\n",
       "      <th>4</th>\n",
       "      <td>140.36</td>\n",
       "      <td>268.80</td>\n",
       "      <td>110.90</td>\n",
       "      <td>89.59</td>\n",
       "      <td>266.11</td>\n",
       "      <td>509.62</td>\n",
       "      <td>210.26</td>\n",
       "    </tr>\n",
       "    <tr>\n",
       "      <th>5</th>\n",
       "      <td>129.93</td>\n",
       "      <td>278.50</td>\n",
       "      <td>102.75</td>\n",
       "      <td>89.59</td>\n",
       "      <td>246.33</td>\n",
       "      <td>528.01</td>\n",
       "      <td>194.80</td>\n",
       "    </tr>\n",
       "    <tr>\n",
       "      <th>6</th>\n",
       "      <td>118.80</td>\n",
       "      <td>270.80</td>\n",
       "      <td>96.96</td>\n",
       "      <td>89.59</td>\n",
       "      <td>225.23</td>\n",
       "      <td>513.41</td>\n",
       "      <td>183.83</td>\n",
       "    </tr>\n",
       "    <tr>\n",
       "      <th>7</th>\n",
       "      <td>131.47</td>\n",
       "      <td>257.00</td>\n",
       "      <td>98.05</td>\n",
       "      <td>89.59</td>\n",
       "      <td>249.25</td>\n",
       "      <td>487.25</td>\n",
       "      <td>185.89</td>\n",
       "    </tr>\n",
       "    <tr>\n",
       "      <th>8</th>\n",
       "      <td>137.42</td>\n",
       "      <td>250.00</td>\n",
       "      <td>95.11</td>\n",
       "      <td>89.59</td>\n",
       "      <td>260.53</td>\n",
       "      <td>473.98</td>\n",
       "      <td>180.32</td>\n",
       "    </tr>\n",
       "    <tr>\n",
       "      <th>9</th>\n",
       "      <td>145.84</td>\n",
       "      <td>252.60</td>\n",
       "      <td>94.48</td>\n",
       "      <td>89.59</td>\n",
       "      <td>276.50</td>\n",
       "      <td>478.90</td>\n",
       "      <td>179.12</td>\n",
       "    </tr>\n",
       "  </tbody>\n",
       "</table>\n",
       "</div>"
      ],
      "text/plain": [
       "   Price_wheat_ton  Price_rice_ton  Price_corn_ton  Inflation_rate  \\\n",
       "0           170.12          278.25          113.62           89.59   \n",
       "1           161.44          277.20          117.00           89.59   \n",
       "2           153.07          278.00          108.52           89.59   \n",
       "3           139.72          274.00          109.64           89.59   \n",
       "4           140.36          268.80          110.90           89.59   \n",
       "5           129.93          278.50          102.75           89.59   \n",
       "6           118.80          270.80           96.96           89.59   \n",
       "7           131.47          257.00           98.05           89.59   \n",
       "8           137.42          250.00           95.11           89.59   \n",
       "9           145.84          252.60           94.48           89.59   \n",
       "\n",
       "   Price_wheat_ton_infl  Price_rice_ton_infl  Price_corn_ton_infl  \n",
       "0                322.53               527.53               215.41  \n",
       "1                306.07               525.54               221.82  \n",
       "2                290.21               527.06               205.74  \n",
       "3                264.90               519.48               207.87  \n",
       "4                266.11               509.62               210.26  \n",
       "5                246.33               528.01               194.80  \n",
       "6                225.23               513.41               183.83  \n",
       "7                249.25               487.25               185.89  \n",
       "8                260.53               473.98               180.32  \n",
       "9                276.50               478.90               179.12  "
      ]
     },
     "execution_count": 171,
     "metadata": {},
     "output_type": "execute_result"
    }
   ],
   "source": [
    "dataset1.head(10)\n"
   ]
  },
  {
   "cell_type": "code",
   "execution_count": 172,
   "id": "8655cb06",
   "metadata": {},
   "outputs": [],
   "source": [
    "from sklearn.linear_model import LogisticRegression\n",
    "from sklearn.model_selection import train_test_split\n",
    "from sklearn import linear_model"
   ]
  },
  {
   "cell_type": "code",
   "execution_count": 173,
   "id": "4034e49e",
   "metadata": {},
   "outputs": [],
   "source": [
    "model = linear_model.LinearRegression()"
   ]
  },
  {
   "cell_type": "code",
   "execution_count": 174,
   "id": "5634779c",
   "metadata": {},
   "outputs": [],
   "source": [
    "X = dataset1[['Price_wheat_ton', 'Price_rice_ton','Price_corn_ton']]\n",
    "y = dataset1['Inflation_rate']"
   ]
  },
  {
   "cell_type": "code",
   "execution_count": 175,
   "id": "78103273",
   "metadata": {},
   "outputs": [
    {
     "data": {
      "text/html": [
       "<div>\n",
       "<style scoped>\n",
       "    .dataframe tbody tr th:only-of-type {\n",
       "        vertical-align: middle;\n",
       "    }\n",
       "\n",
       "    .dataframe tbody tr th {\n",
       "        vertical-align: top;\n",
       "    }\n",
       "\n",
       "    .dataframe thead th {\n",
       "        text-align: right;\n",
       "    }\n",
       "</style>\n",
       "<table border=\"1\" class=\"dataframe\">\n",
       "  <thead>\n",
       "    <tr style=\"text-align: right;\">\n",
       "      <th></th>\n",
       "      <th>Price_wheat_ton</th>\n",
       "      <th>Price_rice_ton</th>\n",
       "      <th>Price_corn_ton</th>\n",
       "    </tr>\n",
       "  </thead>\n",
       "  <tbody>\n",
       "    <tr>\n",
       "      <th>Price_wheat_ton</th>\n",
       "      <td>1.000000</td>\n",
       "      <td>0.747221</td>\n",
       "      <td>0.892489</td>\n",
       "    </tr>\n",
       "    <tr>\n",
       "      <th>Price_rice_ton</th>\n",
       "      <td>0.747221</td>\n",
       "      <td>1.000000</td>\n",
       "      <td>0.808799</td>\n",
       "    </tr>\n",
       "    <tr>\n",
       "      <th>Price_corn_ton</th>\n",
       "      <td>0.892489</td>\n",
       "      <td>0.808799</td>\n",
       "      <td>1.000000</td>\n",
       "    </tr>\n",
       "  </tbody>\n",
       "</table>\n",
       "</div>"
      ],
      "text/plain": [
       "                 Price_wheat_ton  Price_rice_ton  Price_corn_ton\n",
       "Price_wheat_ton         1.000000        0.747221        0.892489\n",
       "Price_rice_ton          0.747221        1.000000        0.808799\n",
       "Price_corn_ton          0.892489        0.808799        1.000000"
      ]
     },
     "execution_count": 175,
     "metadata": {},
     "output_type": "execute_result"
    }
   ],
   "source": [
    "X.corr()"
   ]
  },
  {
   "cell_type": "code",
   "execution_count": 176,
   "id": "84f6145e",
   "metadata": {},
   "outputs": [],
   "source": [
    "X_train, X_test, y_train, y_test = train_test_split(X, y, test_size=0.4, random_state=655)\n"
   ]
  },
  {
   "cell_type": "code",
   "execution_count": 177,
   "id": "761ca7ec",
   "metadata": {},
   "outputs": [
    {
     "data": {
      "text/plain": [
       "LinearRegression()"
      ]
     },
     "execution_count": 177,
     "metadata": {},
     "output_type": "execute_result"
    }
   ],
   "source": [
    "model.fit(X_train,y_train)"
   ]
  },
  {
   "cell_type": "code",
   "execution_count": 178,
   "id": "b14398db",
   "metadata": {},
   "outputs": [
    {
     "data": {
      "text/html": [
       "<div>\n",
       "<style scoped>\n",
       "    .dataframe tbody tr th:only-of-type {\n",
       "        vertical-align: middle;\n",
       "    }\n",
       "\n",
       "    .dataframe tbody tr th {\n",
       "        vertical-align: top;\n",
       "    }\n",
       "\n",
       "    .dataframe thead th {\n",
       "        text-align: right;\n",
       "    }\n",
       "</style>\n",
       "<table border=\"1\" class=\"dataframe\">\n",
       "  <thead>\n",
       "    <tr style=\"text-align: right;\">\n",
       "      <th></th>\n",
       "      <th>Coef</th>\n",
       "    </tr>\n",
       "  </thead>\n",
       "  <tbody>\n",
       "    <tr>\n",
       "      <th>Price_wheat_ton</th>\n",
       "      <td>-0.175216</td>\n",
       "    </tr>\n",
       "    <tr>\n",
       "      <th>Price_rice_ton</th>\n",
       "      <td>-0.065803</td>\n",
       "    </tr>\n",
       "    <tr>\n",
       "      <th>Price_corn_ton</th>\n",
       "      <td>0.011618</td>\n",
       "    </tr>\n",
       "  </tbody>\n",
       "</table>\n",
       "</div>"
      ],
      "text/plain": [
       "                     Coef\n",
       "Price_wheat_ton -0.175216\n",
       "Price_rice_ton  -0.065803\n",
       "Price_corn_ton   0.011618"
      ]
     },
     "execution_count": 178,
     "metadata": {},
     "output_type": "execute_result"
    }
   ],
   "source": [
    "pd.DataFrame(data = model.coef_.transpose(), index = X_train.columns, columns = ['Coef'])"
   ]
  },
  {
   "cell_type": "code",
   "execution_count": 179,
   "id": "314176f6",
   "metadata": {},
   "outputs": [
    {
     "data": {
      "text/plain": [
       "0.4127996156220276"
      ]
     },
     "execution_count": 179,
     "metadata": {},
     "output_type": "execute_result"
    }
   ],
   "source": [
    "model.score(X_train, y_train)"
   ]
  },
  {
   "cell_type": "code",
   "execution_count": 180,
   "id": "c970d087",
   "metadata": {},
   "outputs": [
    {
     "data": {
      "text/plain": [
       "0.5130705344841435"
      ]
     },
     "execution_count": 180,
     "metadata": {},
     "output_type": "execute_result"
    }
   ],
   "source": [
    "model.score(X_test, y_test)"
   ]
  },
  {
   "cell_type": "code",
   "execution_count": 190,
   "id": "8d1c305d",
   "metadata": {},
   "outputs": [],
   "source": [
    "dataset3['sum'] = dataset1['Price_wheat_ton']+dataset1['Price_corn_ton']+dataset1['Price_rice_ton']"
   ]
  },
  {
   "cell_type": "code",
   "execution_count": 194,
   "id": "b195e5f5",
   "metadata": {},
   "outputs": [
    {
     "data": {
      "text/html": [
       "<div>\n",
       "<style scoped>\n",
       "    .dataframe tbody tr th:only-of-type {\n",
       "        vertical-align: middle;\n",
       "    }\n",
       "\n",
       "    .dataframe tbody tr th {\n",
       "        vertical-align: top;\n",
       "    }\n",
       "\n",
       "    .dataframe thead th {\n",
       "        text-align: right;\n",
       "    }\n",
       "</style>\n",
       "<table border=\"1\" class=\"dataframe\">\n",
       "  <thead>\n",
       "    <tr style=\"text-align: right;\">\n",
       "      <th></th>\n",
       "      <th>Price_wheat_ton</th>\n",
       "      <th>Price_rice_ton</th>\n",
       "      <th>Price_corn_ton</th>\n",
       "      <th>Inflation_rate</th>\n",
       "      <th>Price_wheat_ton_infl</th>\n",
       "      <th>Price_rice_ton_infl</th>\n",
       "      <th>Price_corn_ton_infl</th>\n",
       "      <th>cluster</th>\n",
       "      <th>sum</th>\n",
       "    </tr>\n",
       "  </thead>\n",
       "  <tbody>\n",
       "    <tr>\n",
       "      <th>0</th>\n",
       "      <td>170.12</td>\n",
       "      <td>278.25</td>\n",
       "      <td>113.62</td>\n",
       "      <td>89.59</td>\n",
       "      <td>322.53</td>\n",
       "      <td>527.53</td>\n",
       "      <td>215.41</td>\n",
       "      <td>2</td>\n",
       "      <td>561.99</td>\n",
       "    </tr>\n",
       "    <tr>\n",
       "      <th>1</th>\n",
       "      <td>161.44</td>\n",
       "      <td>277.20</td>\n",
       "      <td>117.00</td>\n",
       "      <td>89.59</td>\n",
       "      <td>306.07</td>\n",
       "      <td>525.54</td>\n",
       "      <td>221.82</td>\n",
       "      <td>2</td>\n",
       "      <td>555.64</td>\n",
       "    </tr>\n",
       "    <tr>\n",
       "      <th>2</th>\n",
       "      <td>153.07</td>\n",
       "      <td>278.00</td>\n",
       "      <td>108.52</td>\n",
       "      <td>89.59</td>\n",
       "      <td>290.21</td>\n",
       "      <td>527.06</td>\n",
       "      <td>205.74</td>\n",
       "      <td>2</td>\n",
       "      <td>539.59</td>\n",
       "    </tr>\n",
       "    <tr>\n",
       "      <th>3</th>\n",
       "      <td>139.72</td>\n",
       "      <td>274.00</td>\n",
       "      <td>109.64</td>\n",
       "      <td>89.59</td>\n",
       "      <td>264.90</td>\n",
       "      <td>519.48</td>\n",
       "      <td>207.87</td>\n",
       "      <td>2</td>\n",
       "      <td>523.36</td>\n",
       "    </tr>\n",
       "    <tr>\n",
       "      <th>4</th>\n",
       "      <td>140.36</td>\n",
       "      <td>268.80</td>\n",
       "      <td>110.90</td>\n",
       "      <td>89.59</td>\n",
       "      <td>266.11</td>\n",
       "      <td>509.62</td>\n",
       "      <td>210.26</td>\n",
       "      <td>2</td>\n",
       "      <td>520.06</td>\n",
       "    </tr>\n",
       "  </tbody>\n",
       "</table>\n",
       "</div>"
      ],
      "text/plain": [
       "   Price_wheat_ton  Price_rice_ton  Price_corn_ton  Inflation_rate  \\\n",
       "0           170.12          278.25          113.62           89.59   \n",
       "1           161.44          277.20          117.00           89.59   \n",
       "2           153.07          278.00          108.52           89.59   \n",
       "3           139.72          274.00          109.64           89.59   \n",
       "4           140.36          268.80          110.90           89.59   \n",
       "\n",
       "   Price_wheat_ton_infl  Price_rice_ton_infl  Price_corn_ton_infl  cluster  \\\n",
       "0                322.53               527.53               215.41        2   \n",
       "1                306.07               525.54               221.82        2   \n",
       "2                290.21               527.06               205.74        2   \n",
       "3                264.90               519.48               207.87        2   \n",
       "4                266.11               509.62               210.26        2   \n",
       "\n",
       "      sum  \n",
       "0  561.99  \n",
       "1  555.64  \n",
       "2  539.59  \n",
       "3  523.36  \n",
       "4  520.06  "
      ]
     },
     "execution_count": 194,
     "metadata": {},
     "output_type": "execute_result"
    }
   ],
   "source": [
    "dataset3.head()"
   ]
  },
  {
   "cell_type": "code",
   "execution_count": 193,
   "id": "826515df",
   "metadata": {},
   "outputs": [],
   "source": [
    "dataset3=dataset1"
   ]
  },
  {
   "cell_type": "markdown",
   "id": "eebee09e",
   "metadata": {},
   "source": [
    "## Clustering"
   ]
  },
  {
   "cell_type": "code",
   "execution_count": 195,
   "id": "126ee34f",
   "metadata": {},
   "outputs": [],
   "source": [
    " data_normalized= dataset3[['sum']]"
   ]
  },
  {
   "cell_type": "code",
   "execution_count": 196,
   "id": "35367c8f",
   "metadata": {},
   "outputs": [],
   "source": [
    "distortions = []\n",
    "K = range(1,10)\n",
    "for k in K:\n",
    "    kmeanModel = KMeans(n_clusters=k)\n",
    "    kmeanModel.fit(data_normalized)\n",
    "    distortions.append(kmeanModel.inertia_)"
   ]
  },
  {
   "cell_type": "code",
   "execution_count": 197,
   "id": "5249579f",
   "metadata": {},
   "outputs": [
    {
     "data": {
      "image/png": "[encoded data removed]",
      "text/plain": [
       "<Figure size 1152x576 with 1 Axes>"
      ]
     },
     "metadata": {
      "needs_background": "light"
     },
     "output_type": "display_data"
    }
   ],
   "source": [
    "plt.figure(figsize=(16,8))\n",
    "plt.plot(K, distortions, 'bx-')\n",
    "plt.xlabel('k')\n",
    "plt.ylabel('Distortion')\n",
    "plt.title('The Elbow Method showing the optimal k')\n",
    "plt.show()"
   ]
  },
  {
   "cell_type": "code",
   "execution_count": 198,
   "id": "bbf315d7",
   "metadata": {},
   "outputs": [],
   "source": [
    "from sklearn.cluster import KMeans\n",
    "model = KMeans(n_clusters = 3, random_state=654)\n",
    "model.fit(data_normalized)\n",
    "labels = model.predict(data_normalized)"
   ]
  },
  {
   "cell_type": "code",
   "execution_count": 201,
   "id": "4b115982",
   "metadata": {},
   "outputs": [
    {
     "data": {
      "image/png": "[encoded data removed]",
      "text/plain": [
       "<Figure size 432x288 with 1 Axes>"
      ]
     },
     "metadata": {
      "needs_background": "light"
     },
     "output_type": "display_data"
    }
   ],
   "source": [
    "plt.scatter(dataset3['sum'],dataset3['Inflation_rate']);"
   ]
  },
  {
   "cell_type": "code",
   "execution_count": 202,
   "id": "1a19846b",
   "metadata": {},
   "outputs": [
    {
     "data": {
      "text/plain": [
       "KMeans(n_clusters=3)"
      ]
     },
     "execution_count": 202,
     "metadata": {},
     "output_type": "execute_result"
    }
   ],
   "source": [
    "km=KMeans(n_clusters=3)\n",
    "km"
   ]
  },
  {
   "cell_type": "code",
   "execution_count": 203,
   "id": "3d766091",
   "metadata": {},
   "outputs": [
    {
     "data": {
      "text/plain": [
       "array([1, 1, 1, 1, 1, 1, 1, 1, 1, 1, 1, 1, 1, 1, 1, 1, 1, 1, 1, 1, 1, 1,\n",
       "       1, 1, 1, 1, 1, 1, 1, 1, 1, 1, 1, 1, 1, 1, 1, 1, 1, 1, 1, 2, 1, 2,\n",
       "       2, 2, 2, 2, 2, 2, 2, 2, 2, 2, 2, 2, 1, 1, 1, 1, 1, 1, 1, 1, 1, 1,\n",
       "       1, 1, 1, 1, 1, 1, 1, 1, 1, 1, 1, 1, 1, 1, 1, 1, 1, 1, 1, 1, 1, 1,\n",
       "       1, 1, 1, 1, 1, 1, 1, 1, 1, 1, 1, 1, 1, 1, 1, 1, 1, 1, 1, 1, 1, 1,\n",
       "       1, 1, 1, 1, 1, 1, 1, 1, 1, 1, 1, 1, 1, 1, 1, 1, 1, 1, 1, 1, 1, 1,\n",
       "       1, 1, 1, 1, 1, 1, 1, 1, 1, 1, 1, 1, 1, 1, 1, 1, 1, 1, 1, 1, 1, 1,\n",
       "       1, 1, 1, 1, 1, 1, 1, 1, 1, 1, 1, 1, 1, 1, 1, 1, 1, 1, 1, 1, 1, 1,\n",
       "       2, 2, 2, 2, 2, 2, 2, 2, 2, 2, 2, 2, 2, 2, 2, 2, 0, 0, 0, 0, 0, 0,\n",
       "       0, 0, 0, 2, 2, 2, 2, 2, 2, 2, 0, 2, 2, 2, 2, 2, 0, 2, 2, 2, 2, 2,\n",
       "       2, 2, 2, 0, 0, 0, 0, 0, 0, 0, 0, 0, 0, 0, 0, 0, 0, 0, 0, 0, 0, 0,\n",
       "       0, 0, 0, 0, 0, 0, 0, 0, 0, 0, 0, 0, 0, 0, 0, 0, 0, 2, 2, 2, 2, 2,\n",
       "       2, 2, 2, 2, 2, 2, 2, 2, 2, 2, 2, 2, 2, 2, 2, 2, 2, 2, 2, 2, 2, 2,\n",
       "       2, 2, 2, 2, 2, 2, 2, 2, 2, 2, 2, 2, 2, 2, 2, 2, 2, 2, 2, 2, 2, 2,\n",
       "       2, 2, 2, 2, 2, 2, 2, 2, 2, 2, 2, 2, 2, 2, 2, 2, 2, 2, 2, 2, 2, 2,\n",
       "       2, 2, 2, 2, 2, 2, 2, 2, 2, 2, 2, 2, 2, 2, 2, 2, 0, 0, 0, 0, 0, 0,\n",
       "       0, 2, 2, 2, 0, 0, 0], dtype=int32)"
      ]
     },
     "execution_count": 203,
     "metadata": {},
     "output_type": "execute_result"
    }
   ],
   "source": [
    "y_predicted=km.fit_predict(dataset3[['sum','Inflation_rate']])\n",
    "y_predicted\n"
   ]
  },
  {
   "cell_type": "code",
   "execution_count": 205,
   "id": "ea425fb8",
   "metadata": {},
   "outputs": [
    {
     "data": {
      "text/html": [
       "<div>\n",
       "<style scoped>\n",
       "    .dataframe tbody tr th:only-of-type {\n",
       "        vertical-align: middle;\n",
       "    }\n",
       "\n",
       "    .dataframe tbody tr th {\n",
       "        vertical-align: top;\n",
       "    }\n",
       "\n",
       "    .dataframe thead th {\n",
       "        text-align: right;\n",
       "    }\n",
       "</style>\n",
       "<table border=\"1\" class=\"dataframe\">\n",
       "  <thead>\n",
       "    <tr style=\"text-align: right;\">\n",
       "      <th></th>\n",
       "      <th>Price_wheat_ton</th>\n",
       "      <th>Price_rice_ton</th>\n",
       "      <th>Price_corn_ton</th>\n",
       "      <th>Inflation_rate</th>\n",
       "      <th>Price_wheat_ton_infl</th>\n",
       "      <th>Price_rice_ton_infl</th>\n",
       "      <th>Price_corn_ton_infl</th>\n",
       "      <th>cluster</th>\n",
       "      <th>sum</th>\n",
       "    </tr>\n",
       "  </thead>\n",
       "  <tbody>\n",
       "    <tr>\n",
       "      <th>0</th>\n",
       "      <td>170.12</td>\n",
       "      <td>278.25</td>\n",
       "      <td>113.62</td>\n",
       "      <td>89.59</td>\n",
       "      <td>322.53</td>\n",
       "      <td>527.53</td>\n",
       "      <td>215.41</td>\n",
       "      <td>1</td>\n",
       "      <td>561.99</td>\n",
       "    </tr>\n",
       "    <tr>\n",
       "      <th>1</th>\n",
       "      <td>161.44</td>\n",
       "      <td>277.20</td>\n",
       "      <td>117.00</td>\n",
       "      <td>89.59</td>\n",
       "      <td>306.07</td>\n",
       "      <td>525.54</td>\n",
       "      <td>221.82</td>\n",
       "      <td>1</td>\n",
       "      <td>555.64</td>\n",
       "    </tr>\n",
       "    <tr>\n",
       "      <th>2</th>\n",
       "      <td>153.07</td>\n",
       "      <td>278.00</td>\n",
       "      <td>108.52</td>\n",
       "      <td>89.59</td>\n",
       "      <td>290.21</td>\n",
       "      <td>527.06</td>\n",
       "      <td>205.74</td>\n",
       "      <td>1</td>\n",
       "      <td>539.59</td>\n",
       "    </tr>\n",
       "    <tr>\n",
       "      <th>3</th>\n",
       "      <td>139.72</td>\n",
       "      <td>274.00</td>\n",
       "      <td>109.64</td>\n",
       "      <td>89.59</td>\n",
       "      <td>264.90</td>\n",
       "      <td>519.48</td>\n",
       "      <td>207.87</td>\n",
       "      <td>1</td>\n",
       "      <td>523.36</td>\n",
       "    </tr>\n",
       "    <tr>\n",
       "      <th>4</th>\n",
       "      <td>140.36</td>\n",
       "      <td>268.80</td>\n",
       "      <td>110.90</td>\n",
       "      <td>89.59</td>\n",
       "      <td>266.11</td>\n",
       "      <td>509.62</td>\n",
       "      <td>210.26</td>\n",
       "      <td>1</td>\n",
       "      <td>520.06</td>\n",
       "    </tr>\n",
       "  </tbody>\n",
       "</table>\n",
       "</div>"
      ],
      "text/plain": [
       "   Price_wheat_ton  Price_rice_ton  Price_corn_ton  Inflation_rate  \\\n",
       "0           170.12          278.25          113.62           89.59   \n",
       "1           161.44          277.20          117.00           89.59   \n",
       "2           153.07          278.00          108.52           89.59   \n",
       "3           139.72          274.00          109.64           89.59   \n",
       "4           140.36          268.80          110.90           89.59   \n",
       "\n",
       "   Price_wheat_ton_infl  Price_rice_ton_infl  Price_corn_ton_infl  cluster  \\\n",
       "0                322.53               527.53               215.41        1   \n",
       "1                306.07               525.54               221.82        1   \n",
       "2                290.21               527.06               205.74        1   \n",
       "3                264.90               519.48               207.87        1   \n",
       "4                266.11               509.62               210.26        1   \n",
       "\n",
       "      sum  \n",
       "0  561.99  \n",
       "1  555.64  \n",
       "2  539.59  \n",
       "3  523.36  \n",
       "4  520.06  "
      ]
     },
     "execution_count": 205,
     "metadata": {},
     "output_type": "execute_result"
    }
   ],
   "source": [
    "dataset3['cluster']=y_predicted\n",
    "dataset3.head()"
   ]
  },
  {
   "cell_type": "code",
   "execution_count": 209,
   "id": "6eb05ee3",
   "metadata": {},
   "outputs": [
    {
     "data": {
      "text/plain": [
       "<matplotlib.collections.PathCollection at 0x7fed69374490>"
      ]
     },
     "execution_count": 209,
     "metadata": {},
     "output_type": "execute_result"
    },
    {
     "data": {
      "image/png": "[encoded data removed]",
      "text/plain": [
       "<Figure size 432x288 with 1 Axes>"
      ]
     },
     "metadata": {
      "needs_background": "light"
     },
     "output_type": "display_data"
    }
   ],
   "source": [
    "dff1=dataset3[dataset3.cluster==0]\n",
    "dff2=dataset3[dataset3.cluster==1]\n",
    "dff3=dataset3[dataset3.cluster==2]\n",
    "#dff4=dataset3[dataset3.cluster==3]\n",
    "\n",
    "plt.scatter(dff1.Inflation_rate\t,dff1['sum'],color='green')\n",
    "plt.scatter(dff2.Inflation_rate\t,dff2['sum'],color='black')\n",
    "plt.scatter(dff3.Inflation_rate\t,dff3['sum'],color='blue')\n",
    "#plt.scatter(dff4.Inflation_rate\t,dff4['sum'],color='red')"
   ]
  },
  {
   "cell_type": "code",
   "execution_count": null,
   "id": "0cb8d7b1",
   "metadata": {},
   "outputs": [],
   "source": []
  },
  {
   "cell_type": "code",
   "execution_count": null,
   "id": "7ae3efd2",
   "metadata": {},
   "outputs": [],
   "source": []
  },
  {
   "cell_type": "code",
   "execution_count": null,
   "id": "b7827fad",
   "metadata": {},
   "outputs": [],
   "source": []
  },
  {
   "cell_type": "code",
   "execution_count": null,
   "id": "ae5fc8f7",
   "metadata": {},
   "outputs": [],
   "source": []
  }
 ],
 "metadata": {
  "kernelspec": {
   "display_name": "Python 3 (ipykernel)",
   "language": "python",
   "name": "python3"
  },
  "language_info": {
   "codemirror_mode": {
    "name": "ipython",
    "version": 3
   },
   "file_extension": ".py",
   "mimetype": "text/x-python",
   "name": "python",
   "nbconvert_exporter": "python",
   "pygments_lexer": "ipython3",
   "version": "3.9.7"
  }
 },
 "nbformat": 4,
 "nbformat_minor": 5
}
