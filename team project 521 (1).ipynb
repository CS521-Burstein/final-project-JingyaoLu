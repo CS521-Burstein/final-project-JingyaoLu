{
 "cells": [
  {
   "cell_type": "code",
   "execution_count": 1,
   "id": "84c3706d",
   "metadata": {},
   "outputs": [],
   "source": [
    "import requests"
   ]
  },
  {
   "cell_type": "code",
   "execution_count": 2,
   "id": "731c5d53",
   "metadata": {},
   "outputs": [],
   "source": [
    "import numpy as np\n",
    "import pandas as pd\n",
    "import matplotlib.pyplot as plt\n",
    "import seaborn as sns\n",
    "%matplotlib inline"
   ]
  },
  {
   "cell_type": "code",
   "execution_count": 207,
   "id": "55fc5dc5",
   "metadata": {},
   "outputs": [
    {
     "data": {
      "text/html": [
       "<div>\n",
       "<style scoped>\n",
       "    .dataframe tbody tr th:only-of-type {\n",
       "        vertical-align: middle;\n",
       "    }\n",
       "\n",
       "    .dataframe tbody tr th {\n",
       "        vertical-align: top;\n",
       "    }\n",
       "\n",
       "    .dataframe thead th {\n",
       "        text-align: right;\n",
       "    }\n",
       "</style>\n",
       "<table border=\"1\" class=\"dataframe\">\n",
       "  <thead>\n",
       "    <tr style=\"text-align: right;\">\n",
       "      <th></th>\n",
       "      <th>Year</th>\n",
       "      <th>Month</th>\n",
       "      <th>Price_wheat_ton</th>\n",
       "      <th>Price_rice_ton</th>\n",
       "      <th>Price_corn_ton</th>\n",
       "      <th>Inflation_rate</th>\n",
       "      <th>Price_wheat_ton_infl</th>\n",
       "      <th>Price_rice_ton_infl</th>\n",
       "      <th>Price_corn_ton_infl</th>\n",
       "    </tr>\n",
       "  </thead>\n",
       "  <tbody>\n",
       "    <tr>\n",
       "      <th>0</th>\n",
       "      <td>1992</td>\n",
       "      <td>Feb</td>\n",
       "      <td>170.12</td>\n",
       "      <td>278.25</td>\n",
       "      <td>113.62</td>\n",
       "      <td>89.59</td>\n",
       "      <td>322.53</td>\n",
       "      <td>527.53</td>\n",
       "      <td>215.41</td>\n",
       "    </tr>\n",
       "    <tr>\n",
       "      <th>1</th>\n",
       "      <td>1992</td>\n",
       "      <td>Mar</td>\n",
       "      <td>161.44</td>\n",
       "      <td>277.20</td>\n",
       "      <td>117.00</td>\n",
       "      <td>89.59</td>\n",
       "      <td>306.07</td>\n",
       "      <td>525.54</td>\n",
       "      <td>221.82</td>\n",
       "    </tr>\n",
       "    <tr>\n",
       "      <th>2</th>\n",
       "      <td>1992</td>\n",
       "      <td>Apr</td>\n",
       "      <td>153.07</td>\n",
       "      <td>278.00</td>\n",
       "      <td>108.52</td>\n",
       "      <td>89.59</td>\n",
       "      <td>290.21</td>\n",
       "      <td>527.06</td>\n",
       "      <td>205.74</td>\n",
       "    </tr>\n",
       "    <tr>\n",
       "      <th>3</th>\n",
       "      <td>1992</td>\n",
       "      <td>May</td>\n",
       "      <td>139.72</td>\n",
       "      <td>274.00</td>\n",
       "      <td>109.64</td>\n",
       "      <td>89.59</td>\n",
       "      <td>264.90</td>\n",
       "      <td>519.48</td>\n",
       "      <td>207.87</td>\n",
       "    </tr>\n",
       "    <tr>\n",
       "      <th>4</th>\n",
       "      <td>1992</td>\n",
       "      <td>Jun</td>\n",
       "      <td>140.36</td>\n",
       "      <td>268.80</td>\n",
       "      <td>110.90</td>\n",
       "      <td>89.59</td>\n",
       "      <td>266.11</td>\n",
       "      <td>509.62</td>\n",
       "      <td>210.26</td>\n",
       "    </tr>\n",
       "    <tr>\n",
       "      <th>...</th>\n",
       "      <td>...</td>\n",
       "      <td>...</td>\n",
       "      <td>...</td>\n",
       "      <td>...</td>\n",
       "      <td>...</td>\n",
       "      <td>...</td>\n",
       "      <td>...</td>\n",
       "      <td>...</td>\n",
       "      <td>...</td>\n",
       "    </tr>\n",
       "    <tr>\n",
       "      <th>355</th>\n",
       "      <td>2021</td>\n",
       "      <td>Sep</td>\n",
       "      <td>263.60</td>\n",
       "      <td>400.00</td>\n",
       "      <td>235.62</td>\n",
       "      <td>-1.29</td>\n",
       "      <td>260.20</td>\n",
       "      <td>394.84</td>\n",
       "      <td>232.58</td>\n",
       "    </tr>\n",
       "    <tr>\n",
       "      <th>356</th>\n",
       "      <td>2021</td>\n",
       "      <td>Oct</td>\n",
       "      <td>334.50</td>\n",
       "      <td>401.00</td>\n",
       "      <td>239.65</td>\n",
       "      <td>-1.29</td>\n",
       "      <td>330.18</td>\n",
       "      <td>395.83</td>\n",
       "      <td>236.56</td>\n",
       "    </tr>\n",
       "    <tr>\n",
       "      <th>357</th>\n",
       "      <td>2021</td>\n",
       "      <td>Nov</td>\n",
       "      <td>327.82</td>\n",
       "      <td>400.00</td>\n",
       "      <td>248.72</td>\n",
       "      <td>-1.29</td>\n",
       "      <td>323.59</td>\n",
       "      <td>394.84</td>\n",
       "      <td>245.51</td>\n",
       "    </tr>\n",
       "    <tr>\n",
       "      <th>358</th>\n",
       "      <td>2021</td>\n",
       "      <td>Dec</td>\n",
       "      <td>332.06</td>\n",
       "      <td>400.00</td>\n",
       "      <td>264.54</td>\n",
       "      <td>-1.29</td>\n",
       "      <td>327.78</td>\n",
       "      <td>394.84</td>\n",
       "      <td>261.13</td>\n",
       "    </tr>\n",
       "    <tr>\n",
       "      <th>359</th>\n",
       "      <td>2022</td>\n",
       "      <td>Jan</td>\n",
       "      <td>NaN</td>\n",
       "      <td>427.00</td>\n",
       "      <td>276.62</td>\n",
       "      <td>NaN</td>\n",
       "      <td>NaN</td>\n",
       "      <td>NaN</td>\n",
       "      <td>NaN</td>\n",
       "    </tr>\n",
       "  </tbody>\n",
       "</table>\n",
       "<p>360 rows × 9 columns</p>\n",
       "</div>"
      ],
      "text/plain": [
       "     Year Month  Price_wheat_ton  Price_rice_ton  Price_corn_ton  \\\n",
       "0    1992   Feb           170.12          278.25          113.62   \n",
       "1    1992   Mar           161.44          277.20          117.00   \n",
       "2    1992   Apr           153.07          278.00          108.52   \n",
       "3    1992   May           139.72          274.00          109.64   \n",
       "4    1992   Jun           140.36          268.80          110.90   \n",
       "..    ...   ...              ...             ...             ...   \n",
       "355  2021   Sep           263.60          400.00          235.62   \n",
       "356  2021   Oct           334.50          401.00          239.65   \n",
       "357  2021   Nov           327.82          400.00          248.72   \n",
       "358  2021   Dec           332.06          400.00          264.54   \n",
       "359  2022   Jan              NaN          427.00          276.62   \n",
       "\n",
       "     Inflation_rate  Price_wheat_ton_infl  Price_rice_ton_infl  \\\n",
       "0             89.59                322.53               527.53   \n",
       "1             89.59                306.07               525.54   \n",
       "2             89.59                290.21               527.06   \n",
       "3             89.59                264.90               519.48   \n",
       "4             89.59                266.11               509.62   \n",
       "..              ...                   ...                  ...   \n",
       "355           -1.29                260.20               394.84   \n",
       "356           -1.29                330.18               395.83   \n",
       "357           -1.29                323.59               394.84   \n",
       "358           -1.29                327.78               394.84   \n",
       "359             NaN                   NaN                  NaN   \n",
       "\n",
       "     Price_corn_ton_infl  \n",
       "0                 215.41  \n",
       "1                 221.82  \n",
       "2                 205.74  \n",
       "3                 207.87  \n",
       "4                 210.26  \n",
       "..                   ...  \n",
       "355               232.58  \n",
       "356               236.56  \n",
       "357               245.51  \n",
       "358               261.13  \n",
       "359                  NaN  \n",
       "\n",
       "[360 rows x 9 columns]"
      ]
     },
     "execution_count": 207,
     "metadata": {},
     "output_type": "execute_result"
    }
   ],
   "source": [
    "dataset= pd.read_csv('rice_wheat_corn_prices.csv')\n",
    "dataset"
   ]
  },
  {
   "cell_type": "code",
   "execution_count": 4,
   "id": "429db9b0",
   "metadata": {},
   "outputs": [
    {
     "data": {
      "text/plain": [
       "Index(['Year', 'Month', 'Price_wheat_ton', 'Price_rice_ton', 'Price_corn_ton',\n",
       "       'Inflation_rate', 'Price_wheat_ton_infl', 'Price_rice_ton_infl',\n",
       "       'Price_corn_ton_infl'],\n",
       "      dtype='object')"
      ]
     },
     "execution_count": 4,
     "metadata": {},
     "output_type": "execute_result"
    }
   ],
   "source": [
    "dataset.columns"
   ]
  },
  {
   "cell_type": "code",
   "execution_count": 5,
   "id": "d5f5562c",
   "metadata": {},
   "outputs": [
    {
     "data": {
      "text/plain": [
       "27000"
      ]
     },
     "execution_count": 5,
     "metadata": {},
     "output_type": "execute_result"
    }
   ],
   "source": [
    "len(dataset.columns)*3000"
   ]
  },
  {
   "cell_type": "code",
   "execution_count": 7,
   "id": "5477c970",
   "metadata": {
    "scrolled": true
   },
   "outputs": [
    {
     "data": {
      "text/html": [
       "<div>\n",
       "<style scoped>\n",
       "    .dataframe tbody tr th:only-of-type {\n",
       "        vertical-align: middle;\n",
       "    }\n",
       "\n",
       "    .dataframe tbody tr th {\n",
       "        vertical-align: top;\n",
       "    }\n",
       "\n",
       "    .dataframe thead th {\n",
       "        text-align: right;\n",
       "    }\n",
       "</style>\n",
       "<table border=\"1\" class=\"dataframe\">\n",
       "  <thead>\n",
       "    <tr style=\"text-align: right;\">\n",
       "      <th></th>\n",
       "      <th>Year</th>\n",
       "      <th>Month</th>\n",
       "      <th>Price_wheat_ton</th>\n",
       "      <th>Price_rice_ton</th>\n",
       "      <th>Price_corn_ton</th>\n",
       "      <th>Inflation_rate</th>\n",
       "      <th>Price_wheat_ton_infl</th>\n",
       "      <th>Price_rice_ton_infl</th>\n",
       "      <th>Price_corn_ton_infl</th>\n",
       "    </tr>\n",
       "  </thead>\n",
       "  <tbody>\n",
       "    <tr>\n",
       "      <th>101</th>\n",
       "      <td>2000</td>\n",
       "      <td>Jul</td>\n",
       "      <td>91.17</td>\n",
       "      <td>189.00</td>\n",
       "      <td>75.27</td>\n",
       "      <td>54.49</td>\n",
       "      <td>140.85</td>\n",
       "      <td>291.99</td>\n",
       "      <td>116.28</td>\n",
       "    </tr>\n",
       "    <tr>\n",
       "      <th>102</th>\n",
       "      <td>2000</td>\n",
       "      <td>Aug</td>\n",
       "      <td>90.87</td>\n",
       "      <td>186.50</td>\n",
       "      <td>75.58</td>\n",
       "      <td>54.49</td>\n",
       "      <td>140.39</td>\n",
       "      <td>288.12</td>\n",
       "      <td>116.76</td>\n",
       "    </tr>\n",
       "    <tr>\n",
       "      <th>103</th>\n",
       "      <td>2000</td>\n",
       "      <td>Sep</td>\n",
       "      <td>97.88</td>\n",
       "      <td>179.00</td>\n",
       "      <td>80.43</td>\n",
       "      <td>54.49</td>\n",
       "      <td>151.21</td>\n",
       "      <td>276.54</td>\n",
       "      <td>124.26</td>\n",
       "    </tr>\n",
       "    <tr>\n",
       "      <th>112</th>\n",
       "      <td>2001</td>\n",
       "      <td>Jun</td>\n",
       "      <td>97.42</td>\n",
       "      <td>168.00</td>\n",
       "      <td>83.31</td>\n",
       "      <td>50.24</td>\n",
       "      <td>146.36</td>\n",
       "      <td>252.40</td>\n",
       "      <td>125.16</td>\n",
       "    </tr>\n",
       "    <tr>\n",
       "      <th>89</th>\n",
       "      <td>1999</td>\n",
       "      <td>Jul</td>\n",
       "      <td>85.30</td>\n",
       "      <td>259.00</td>\n",
       "      <td>83.99</td>\n",
       "      <td>59.70</td>\n",
       "      <td>136.22</td>\n",
       "      <td>413.62</td>\n",
       "      <td>134.13</td>\n",
       "    </tr>\n",
       "    <tr>\n",
       "      <th>...</th>\n",
       "      <td>...</td>\n",
       "      <td>...</td>\n",
       "      <td>...</td>\n",
       "      <td>...</td>\n",
       "      <td>...</td>\n",
       "      <td>...</td>\n",
       "      <td>...</td>\n",
       "      <td>...</td>\n",
       "      <td>...</td>\n",
       "    </tr>\n",
       "    <tr>\n",
       "      <th>247</th>\n",
       "      <td>2012</td>\n",
       "      <td>Sep</td>\n",
       "      <td>343.55</td>\n",
       "      <td>563.25</td>\n",
       "      <td>320.85</td>\n",
       "      <td>15.87</td>\n",
       "      <td>398.07</td>\n",
       "      <td>652.64</td>\n",
       "      <td>371.77</td>\n",
       "    </tr>\n",
       "    <tr>\n",
       "      <th>248</th>\n",
       "      <td>2012</td>\n",
       "      <td>Oct</td>\n",
       "      <td>340.25</td>\n",
       "      <td>558.25</td>\n",
       "      <td>321.24</td>\n",
       "      <td>15.87</td>\n",
       "      <td>394.25</td>\n",
       "      <td>646.84</td>\n",
       "      <td>372.22</td>\n",
       "    </tr>\n",
       "    <tr>\n",
       "      <th>249</th>\n",
       "      <td>2012</td>\n",
       "      <td>Nov</td>\n",
       "      <td>346.49</td>\n",
       "      <td>559.25</td>\n",
       "      <td>321.64</td>\n",
       "      <td>15.87</td>\n",
       "      <td>401.48</td>\n",
       "      <td>648.00</td>\n",
       "      <td>372.68</td>\n",
       "    </tr>\n",
       "    <tr>\n",
       "      <th>246</th>\n",
       "      <td>2012</td>\n",
       "      <td>Aug</td>\n",
       "      <td>333.73</td>\n",
       "      <td>567.75</td>\n",
       "      <td>331.99</td>\n",
       "      <td>15.87</td>\n",
       "      <td>386.69</td>\n",
       "      <td>657.85</td>\n",
       "      <td>384.68</td>\n",
       "    </tr>\n",
       "    <tr>\n",
       "      <th>245</th>\n",
       "      <td>2012</td>\n",
       "      <td>Jul</td>\n",
       "      <td>322.98</td>\n",
       "      <td>573.75</td>\n",
       "      <td>333.05</td>\n",
       "      <td>15.87</td>\n",
       "      <td>374.24</td>\n",
       "      <td>664.80</td>\n",
       "      <td>385.91</td>\n",
       "    </tr>\n",
       "  </tbody>\n",
       "</table>\n",
       "<p>360 rows × 9 columns</p>\n",
       "</div>"
      ],
      "text/plain": [
       "     Year Month  Price_wheat_ton  Price_rice_ton  Price_corn_ton  \\\n",
       "101  2000   Jul            91.17          189.00           75.27   \n",
       "102  2000   Aug            90.87          186.50           75.58   \n",
       "103  2000   Sep            97.88          179.00           80.43   \n",
       "112  2001   Jun            97.42          168.00           83.31   \n",
       "89   1999   Jul            85.30          259.00           83.99   \n",
       "..    ...   ...              ...             ...             ...   \n",
       "247  2012   Sep           343.55          563.25          320.85   \n",
       "248  2012   Oct           340.25          558.25          321.24   \n",
       "249  2012   Nov           346.49          559.25          321.64   \n",
       "246  2012   Aug           333.73          567.75          331.99   \n",
       "245  2012   Jul           322.98          573.75          333.05   \n",
       "\n",
       "     Inflation_rate  Price_wheat_ton_infl  Price_rice_ton_infl  \\\n",
       "101           54.49                140.85               291.99   \n",
       "102           54.49                140.39               288.12   \n",
       "103           54.49                151.21               276.54   \n",
       "112           50.24                146.36               252.40   \n",
       "89            59.70                136.22               413.62   \n",
       "..              ...                   ...                  ...   \n",
       "247           15.87                398.07               652.64   \n",
       "248           15.87                394.25               646.84   \n",
       "249           15.87                401.48               648.00   \n",
       "246           15.87                386.69               657.85   \n",
       "245           15.87                374.24               664.80   \n",
       "\n",
       "     Price_corn_ton_infl  \n",
       "101               116.28  \n",
       "102               116.76  \n",
       "103               124.26  \n",
       "112               125.16  \n",
       "89                134.13  \n",
       "..                   ...  \n",
       "247               371.77  \n",
       "248               372.22  \n",
       "249               372.68  \n",
       "246               384.68  \n",
       "245               385.91  \n",
       "\n",
       "[360 rows x 9 columns]"
      ]
     },
     "execution_count": 7,
     "metadata": {},
     "output_type": "execute_result"
    }
   ],
   "source": [
    "dataset.sort_values(by='Price_corn_ton')"
   ]
  },
  {
   "cell_type": "code",
   "execution_count": 8,
   "id": "e2489c45",
   "metadata": {},
   "outputs": [
    {
     "data": {
      "image/png": "[encoded data removed]",
      "text/plain": [
       "<Figure size 432x288 with 1 Axes>"
      ]
     },
     "metadata": {
      "needs_background": "light"
     },
     "output_type": "display_data"
    }
   ],
   "source": [
    "sns.histplot(data=dataset, x=\"Inflation_rate\",bins=30);"
   ]
  },
  {
   "cell_type": "code",
   "execution_count": 9,
   "id": "38fb5096",
   "metadata": {},
   "outputs": [
    {
     "data": {
      "image/png": "[encoded data removed]",
      "text/plain": [
       "<Figure size 360x360 with 1 Axes>"
      ]
     },
     "metadata": {
      "needs_background": "light"
     },
     "output_type": "display_data"
    }
   ],
   "source": [
    "grouped_by_year_wheat = dataset.groupby('Year').sum()\n",
    "sns.relplot(x='Year', y='Price_wheat_ton', data = grouped_by_year_wheat);"
   ]
  },
  {
   "cell_type": "markdown",
   "id": "5c31ce14",
   "metadata": {},
   "source": [
    "figure above is the sum of prices in each year. first we can notice that the year 2022 is low  and that the maximum sum in a year was in around 2012"
   ]
  },
  {
   "cell_type": "code",
   "execution_count": 10,
   "id": "be771ca8",
   "metadata": {},
   "outputs": [
    {
     "data": {
      "image/png": "[encoded data removed]",
      "text/plain": [
       "<Figure size 432x288 with 1 Axes>"
      ]
     },
     "metadata": {
      "needs_background": "light"
     },
     "output_type": "display_data"
    }
   ],
   "source": [
    "sns.boxplot(y=dataset.Price_corn_ton);"
   ]
  },
  {
   "cell_type": "code",
   "execution_count": 11,
   "id": "41c3399e",
   "metadata": {},
   "outputs": [],
   "source": [
    "xs=list(dataset.Year)"
   ]
  },
  {
   "cell_type": "code",
   "execution_count": 12,
   "id": "320eecce",
   "metadata": {},
   "outputs": [],
   "source": [
    "ys=list(dataset.Inflation_rate)"
   ]
  },
  {
   "cell_type": "code",
   "execution_count": 13,
   "id": "8fe1c574",
   "metadata": {},
   "outputs": [
    {
     "data": {
      "image/png": "[encoded data removed]",
      "text/plain": [
       "<Figure size 432x288 with 1 Axes>"
      ]
     },
     "metadata": {
      "needs_background": "light"
     },
     "output_type": "display_data"
    }
   ],
   "source": [
    "plt.plot(xs,ys)\n",
    "plt.grid()\n",
    "plt.show()"
   ]
  },
  {
   "cell_type": "code",
   "execution_count": 14,
   "id": "ab07cf17",
   "metadata": {},
   "outputs": [],
   "source": [
    "xs=list(dataset.Year)"
   ]
  },
  {
   "cell_type": "code",
   "execution_count": 15,
   "id": "0b0aa170",
   "metadata": {},
   "outputs": [],
   "source": [
    "xs=list(dataset.Year)"
   ]
  },
  {
   "cell_type": "code",
   "execution_count": 16,
   "id": "0909f27b",
   "metadata": {},
   "outputs": [],
   "source": [
    "ys=list(dataset.Price_wheat_ton)"
   ]
  },
  {
   "cell_type": "code",
   "execution_count": 17,
   "id": "7f109e7f",
   "metadata": {},
   "outputs": [
    {
     "data": {
      "image/png": "[encoded data removed]",
      "text/plain": [
       "<Figure size 432x288 with 1 Axes>"
      ]
     },
     "metadata": {
      "needs_background": "light"
     },
     "output_type": "display_data"
    }
   ],
   "source": [
    "plt.bar(xs,ys)\n",
    "plt.grid()\n",
    "plt.ylim(0,100)\n",
    "\n",
    "plt.xlabel('Year')\n",
    "plt.ylabel('Price_wheat_ton')\n",
    "\n",
    "plt.show()"
   ]
  },
  {
   "cell_type": "code",
   "execution_count": 18,
   "id": "e7052a72",
   "metadata": {},
   "outputs": [],
   "source": [
    "xs=list(dataset.Price_corn_ton)"
   ]
  },
  {
   "cell_type": "code",
   "execution_count": 19,
   "id": "1d17854e",
   "metadata": {},
   "outputs": [],
   "source": [
    "ys=list(dataset.Price_corn_ton_infl)"
   ]
  },
  {
   "cell_type": "code",
   "execution_count": 20,
   "id": "fdda03ca",
   "metadata": {},
   "outputs": [
    {
     "data": {
      "text/plain": [
       "Text(0, 0.5, 'Price_corn_ton_infl')"
      ]
     },
     "execution_count": 20,
     "metadata": {},
     "output_type": "execute_result"
    },
    {
     "data": {
      "image/png": "[encoded data removed]",
      "text/plain": [
       "<Figure size 432x288 with 1 Axes>"
      ]
     },
     "metadata": {
      "needs_background": "light"
     },
     "output_type": "display_data"
    }
   ],
   "source": [
    "plt.barh(xs,ys,height = 4)\n",
    "plt.xlabel('Price_corn_ton')\n",
    "plt.ylabel('Price_corn_ton_infl')\n"
   ]
  },
  {
   "cell_type": "code",
   "execution_count": 21,
   "id": "61bcc05e",
   "metadata": {},
   "outputs": [],
   "source": [
    "xs=list(dataset.Price_wheat_ton)"
   ]
  },
  {
   "cell_type": "code",
   "execution_count": 22,
   "id": "2b793a4c",
   "metadata": {},
   "outputs": [],
   "source": [
    "ys=list(dataset.Price_wheat_ton_infl)\n"
   ]
  },
  {
   "cell_type": "code",
   "execution_count": 23,
   "id": "62c6d0b4",
   "metadata": {},
   "outputs": [
    {
     "data": {
      "image/png": "[encoded data removed]",
      "text/plain": [
       "<Figure size 432x288 with 1 Axes>"
      ]
     },
     "metadata": {
      "needs_background": "light"
     },
     "output_type": "display_data"
    }
   ],
   "source": [
    "plt.scatter(xs,ys)\n",
    "\n",
    "plt.ylim(0,600)\n",
    "\n",
    "plt.xlabel('Price_wheat_ton')\n",
    "plt.ylabel('Price_wheat_ton_infl')\n",
    "plt.show()\n"
   ]
  },
  {
   "cell_type": "code",
   "execution_count": 24,
   "id": "d63bf6bb",
   "metadata": {},
   "outputs": [],
   "source": [
    "xs=list(dataset.Year)\n"
   ]
  },
  {
   "cell_type": "code",
   "execution_count": 25,
   "id": "be38b47d",
   "metadata": {},
   "outputs": [],
   "source": [
    "ys=list(dataset.Price_corn_ton_infl)\n"
   ]
  },
  {
   "cell_type": "code",
   "execution_count": 26,
   "id": "206d918c",
   "metadata": {},
   "outputs": [
    {
     "data": {
      "image/png": "[encoded data removed]",
      "text/plain": [
       "<Figure size 432x288 with 1 Axes>"
      ]
     },
     "metadata": {
      "needs_background": "light"
     },
     "output_type": "display_data"
    }
   ],
   "source": [
    "plt.plot(xs,ys)\n",
    "plt.grid()\n",
    "plt.show()"
   ]
  },
  {
   "cell_type": "code",
   "execution_count": 27,
   "id": "36b2c8d1",
   "metadata": {},
   "outputs": [],
   "source": [
    "xs=list(dataset.Price_rice_ton)"
   ]
  },
  {
   "cell_type": "code",
   "execution_count": 28,
   "id": "f8ea3c16",
   "metadata": {},
   "outputs": [],
   "source": [
    "ys=list(dataset.Price_rice_ton_infl)"
   ]
  },
  {
   "cell_type": "code",
   "execution_count": 29,
   "id": "e5203e44",
   "metadata": {
    "scrolled": true
   },
   "outputs": [
    {
     "data": {
      "image/png": "[encoded data removed]",
      "text/plain": [
       "<Figure size 432x288 with 1 Axes>"
      ]
     },
     "metadata": {
      "needs_background": "light"
     },
     "output_type": "display_data"
    }
   ],
   "source": [
    "plt.scatter(xs,ys)\n",
    "plt.ylim(200,600)\n",
    "plt.show()"
   ]
  },
  {
   "cell_type": "markdown",
   "id": "7ba84c34",
   "metadata": {},
   "source": [
    "## New plots"
   ]
  },
  {
   "cell_type": "markdown",
   "id": "3aba05ad",
   "metadata": {},
   "source": [
    "### Lineplots"
   ]
  },
  {
   "cell_type": "code",
   "execution_count": 30,
   "id": "628077c7",
   "metadata": {
    "scrolled": true
   },
   "outputs": [
    {
     "data": {
      "image/png": "[encoded data removed]",
      "text/plain": [
       "<Figure size 432x288 with 1 Axes>"
      ]
     },
     "metadata": {
      "needs_background": "light"
     },
     "output_type": "display_data"
    }
   ],
   "source": [
    "sns.lineplot(x=\"Year\", y=\"Price_wheat_ton\",data=dataset)\n",
    "plt.title(\"Change of wheat price in last 30 years\", fontsize = 20);"
   ]
  },
  {
   "cell_type": "code",
   "execution_count": 31,
   "id": "c4044262",
   "metadata": {},
   "outputs": [
    {
     "data": {
      "image/png": "[encoded data removed]",
      "text/plain": [
       "<Figure size 432x288 with 1 Axes>"
      ]
     },
     "metadata": {
      "needs_background": "light"
     },
     "output_type": "display_data"
    }
   ],
   "source": [
    "sns.lineplot(x=\"Year\", y=\"Price_rice_ton\",data=dataset)\n",
    "plt.title(\"Change of rice price in last 30 years\", fontsize = 20);"
   ]
  },
  {
   "cell_type": "code",
   "execution_count": 32,
   "id": "4cc7f7ab",
   "metadata": {},
   "outputs": [
    {
     "data": {
      "image/png": "[encoded data removed]",
      "text/plain": [
       "<Figure size 432x288 with 1 Axes>"
      ]
     },
     "metadata": {
      "needs_background": "light"
     },
     "output_type": "display_data"
    }
   ],
   "source": [
    "sns.lineplot(x=\"Year\", y=\"Price_corn_ton\",data=dataset)\n",
    "plt.title(\"Change of corn price in last 30 years\", fontsize = 20);"
   ]
  },
  {
   "cell_type": "code",
   "execution_count": 33,
   "id": "f2d6796c",
   "metadata": {},
   "outputs": [
    {
     "data": {
      "image/png": "[encoded data removed]",
      "text/plain": [
       "<Figure size 432x288 with 1 Axes>"
      ]
     },
     "metadata": {
      "needs_background": "light"
     },
     "output_type": "display_data"
    }
   ],
   "source": [
    "sns.lineplot(x=\"Year\", y=\"Inflation_rate\",data=dataset)\n",
    "plt.title(\"Change of Inflation_rate in last 30 years\", fontsize = 20);"
   ]
  },
  {
   "cell_type": "markdown",
   "id": "fd4fd965",
   "metadata": {},
   "source": [
    "### barplot"
   ]
  },
  {
   "cell_type": "code",
   "execution_count": 34,
   "id": "289dffed",
   "metadata": {},
   "outputs": [
    {
     "data": {
      "image/png": "[encoded data removed]",
      "text/plain": [
       "<Figure size 432x288 with 1 Axes>"
      ]
     },
     "metadata": {
      "needs_background": "light"
     },
     "output_type": "display_data"
    }
   ],
   "source": [
    "sns.barplot(data = dataset, x = 'Year', y = 'Price_wheat_ton')\n",
    "plt.xticks(rotation=60);\n",
    "plt.title(\"Price of wheat in last 30 years\", fontsize = 20);"
   ]
  },
  {
   "cell_type": "code",
   "execution_count": 35,
   "id": "46223f0a",
   "metadata": {},
   "outputs": [
    {
     "data": {
      "image/png": "[encoded data removed]",
      "text/plain": [
       "<Figure size 432x288 with 1 Axes>"
      ]
     },
     "metadata": {
      "needs_background": "light"
     },
     "output_type": "display_data"
    }
   ],
   "source": [
    "sns.boxplot(y=dataset.Inflation_rate);\n",
    "plt.title(\" Overall Inflation_rate in last 30 years\", fontsize = 20);"
   ]
  },
  {
   "cell_type": "markdown",
   "id": "f10ca6de",
   "metadata": {},
   "source": [
    "## ML"
   ]
  },
  {
   "cell_type": "code",
   "execution_count": 36,
   "id": "5cf5b1ca",
   "metadata": {},
   "outputs": [
    {
     "data": {
      "text/plain": [
       "Index(['Year', 'Month', 'Price_wheat_ton', 'Price_rice_ton', 'Price_corn_ton',\n",
       "       'Inflation_rate', 'Price_wheat_ton_infl', 'Price_rice_ton_infl',\n",
       "       'Price_corn_ton_infl'],\n",
       "      dtype='object')"
      ]
     },
     "execution_count": 36,
     "metadata": {},
     "output_type": "execute_result"
    }
   ],
   "source": [
    "dataset.columns"
   ]
  },
  {
   "cell_type": "code",
   "execution_count": 37,
   "id": "e0f6b940",
   "metadata": {},
   "outputs": [],
   "source": [
    "dataset1 = dataset[[ 'Price_wheat_ton', 'Price_rice_ton', 'Price_corn_ton',\n",
    "       'Inflation_rate', 'Price_wheat_ton_infl', 'Price_rice_ton_infl',\n",
    "       'Price_corn_ton_infl']]"
   ]
  },
  {
   "cell_type": "code",
   "execution_count": 38,
   "id": "cfddc3a0",
   "metadata": {},
   "outputs": [],
   "source": [
    "dataset1 = dataset1.dropna()"
   ]
  },
  {
   "cell_type": "code",
   "execution_count": 116,
   "id": "14696d03",
   "metadata": {},
   "outputs": [
    {
     "name": "stderr",
     "output_type": "stream",
     "text": [
      "C:\\Users\\18329\\anaconda3\\lib\\site-packages\\pandas\\core\\generic.py:6392: SettingWithCopyWarning: \n",
      "A value is trying to be set on a copy of a slice from a DataFrame\n",
      "\n",
      "See the caveats in the documentation: https://pandas.pydata.org/pandas-docs/stable/user_guide/indexing.html#returning-a-view-versus-a-copy\n",
      "  return self._update_inplace(result)\n"
     ]
    },
    {
     "data": {
      "text/plain": [
       "Year                    0\n",
       "Price_wheat_ton         0\n",
       "Price_rice_ton          0\n",
       "Price_corn_ton          0\n",
       "Inflation_rate          0\n",
       "Price_wheat_ton_infl    0\n",
       "Price_rice_ton_infl     0\n",
       "Price_corn_ton_infl     0\n",
       "dtype: int64"
      ]
     },
     "execution_count": 116,
     "metadata": {},
     "output_type": "execute_result"
    }
   ],
   "source": [
    "df = dataset[['Year', 'Price_wheat_ton', 'Price_rice_ton', 'Price_corn_ton',\n",
    "       'Inflation_rate', 'Price_wheat_ton_infl', 'Price_rice_ton_infl',\n",
    "       'Price_corn_ton_infl']]\n",
    "df.fillna(df.mean(), inplace=True)\n",
    "df.isnull().sum()"
   ]
  },
  {
   "cell_type": "code",
   "execution_count": 39,
   "id": "4afe5e77",
   "metadata": {},
   "outputs": [
    {
     "data": {
      "text/html": [
       "<div>\n",
       "<style scoped>\n",
       "    .dataframe tbody tr th:only-of-type {\n",
       "        vertical-align: middle;\n",
       "    }\n",
       "\n",
       "    .dataframe tbody tr th {\n",
       "        vertical-align: top;\n",
       "    }\n",
       "\n",
       "    .dataframe thead th {\n",
       "        text-align: right;\n",
       "    }\n",
       "</style>\n",
       "<table border=\"1\" class=\"dataframe\">\n",
       "  <thead>\n",
       "    <tr style=\"text-align: right;\">\n",
       "      <th></th>\n",
       "      <th>Price_wheat_ton</th>\n",
       "      <th>Price_rice_ton</th>\n",
       "      <th>Price_corn_ton</th>\n",
       "      <th>Inflation_rate</th>\n",
       "      <th>Price_wheat_ton_infl</th>\n",
       "      <th>Price_rice_ton_infl</th>\n",
       "      <th>Price_corn_ton_infl</th>\n",
       "    </tr>\n",
       "  </thead>\n",
       "  <tbody>\n",
       "    <tr>\n",
       "      <th>0</th>\n",
       "      <td>170.12</td>\n",
       "      <td>278.25</td>\n",
       "      <td>113.62</td>\n",
       "      <td>89.59</td>\n",
       "      <td>322.53</td>\n",
       "      <td>527.53</td>\n",
       "      <td>215.41</td>\n",
       "    </tr>\n",
       "    <tr>\n",
       "      <th>1</th>\n",
       "      <td>161.44</td>\n",
       "      <td>277.20</td>\n",
       "      <td>117.00</td>\n",
       "      <td>89.59</td>\n",
       "      <td>306.07</td>\n",
       "      <td>525.54</td>\n",
       "      <td>221.82</td>\n",
       "    </tr>\n",
       "    <tr>\n",
       "      <th>2</th>\n",
       "      <td>153.07</td>\n",
       "      <td>278.00</td>\n",
       "      <td>108.52</td>\n",
       "      <td>89.59</td>\n",
       "      <td>290.21</td>\n",
       "      <td>527.06</td>\n",
       "      <td>205.74</td>\n",
       "    </tr>\n",
       "    <tr>\n",
       "      <th>3</th>\n",
       "      <td>139.72</td>\n",
       "      <td>274.00</td>\n",
       "      <td>109.64</td>\n",
       "      <td>89.59</td>\n",
       "      <td>264.90</td>\n",
       "      <td>519.48</td>\n",
       "      <td>207.87</td>\n",
       "    </tr>\n",
       "    <tr>\n",
       "      <th>4</th>\n",
       "      <td>140.36</td>\n",
       "      <td>268.80</td>\n",
       "      <td>110.90</td>\n",
       "      <td>89.59</td>\n",
       "      <td>266.11</td>\n",
       "      <td>509.62</td>\n",
       "      <td>210.26</td>\n",
       "    </tr>\n",
       "    <tr>\n",
       "      <th>5</th>\n",
       "      <td>129.93</td>\n",
       "      <td>278.50</td>\n",
       "      <td>102.75</td>\n",
       "      <td>89.59</td>\n",
       "      <td>246.33</td>\n",
       "      <td>528.01</td>\n",
       "      <td>194.80</td>\n",
       "    </tr>\n",
       "    <tr>\n",
       "      <th>6</th>\n",
       "      <td>118.80</td>\n",
       "      <td>270.80</td>\n",
       "      <td>96.96</td>\n",
       "      <td>89.59</td>\n",
       "      <td>225.23</td>\n",
       "      <td>513.41</td>\n",
       "      <td>183.83</td>\n",
       "    </tr>\n",
       "    <tr>\n",
       "      <th>7</th>\n",
       "      <td>131.47</td>\n",
       "      <td>257.00</td>\n",
       "      <td>98.05</td>\n",
       "      <td>89.59</td>\n",
       "      <td>249.25</td>\n",
       "      <td>487.25</td>\n",
       "      <td>185.89</td>\n",
       "    </tr>\n",
       "    <tr>\n",
       "      <th>8</th>\n",
       "      <td>137.42</td>\n",
       "      <td>250.00</td>\n",
       "      <td>95.11</td>\n",
       "      <td>89.59</td>\n",
       "      <td>260.53</td>\n",
       "      <td>473.98</td>\n",
       "      <td>180.32</td>\n",
       "    </tr>\n",
       "    <tr>\n",
       "      <th>9</th>\n",
       "      <td>145.84</td>\n",
       "      <td>252.60</td>\n",
       "      <td>94.48</td>\n",
       "      <td>89.59</td>\n",
       "      <td>276.50</td>\n",
       "      <td>478.90</td>\n",
       "      <td>179.12</td>\n",
       "    </tr>\n",
       "  </tbody>\n",
       "</table>\n",
       "</div>"
      ],
      "text/plain": [
       "   Price_wheat_ton  Price_rice_ton  Price_corn_ton  Inflation_rate  \\\n",
       "0           170.12          278.25          113.62           89.59   \n",
       "1           161.44          277.20          117.00           89.59   \n",
       "2           153.07          278.00          108.52           89.59   \n",
       "3           139.72          274.00          109.64           89.59   \n",
       "4           140.36          268.80          110.90           89.59   \n",
       "5           129.93          278.50          102.75           89.59   \n",
       "6           118.80          270.80           96.96           89.59   \n",
       "7           131.47          257.00           98.05           89.59   \n",
       "8           137.42          250.00           95.11           89.59   \n",
       "9           145.84          252.60           94.48           89.59   \n",
       "\n",
       "   Price_wheat_ton_infl  Price_rice_ton_infl  Price_corn_ton_infl  \n",
       "0                322.53               527.53               215.41  \n",
       "1                306.07               525.54               221.82  \n",
       "2                290.21               527.06               205.74  \n",
       "3                264.90               519.48               207.87  \n",
       "4                266.11               509.62               210.26  \n",
       "5                246.33               528.01               194.80  \n",
       "6                225.23               513.41               183.83  \n",
       "7                249.25               487.25               185.89  \n",
       "8                260.53               473.98               180.32  \n",
       "9                276.50               478.90               179.12  "
      ]
     },
     "execution_count": 39,
     "metadata": {},
     "output_type": "execute_result"
    }
   ],
   "source": [
    "dataset1.head(10)"
   ]
  },
  {
   "cell_type": "markdown",
   "id": "01bfeddc",
   "metadata": {},
   "source": [
    "# Exploration & Correlation (Extension 1):"
   ]
  },
  {
   "cell_type": "code",
   "execution_count": 157,
   "id": "25be56cb",
   "metadata": {},
   "outputs": [
    {
     "data": {
      "image/png": "[encoded data removed]",
      "text/plain": [
       "<Figure size 576x360 with 2 Axes>"
      ]
     },
     "metadata": {
      "needs_background": "light"
     },
     "output_type": "display_data"
    }
   ],
   "source": [
    "plt.figure(figsize=(8, 5))\n",
    "sns.heatmap(df.corr(), annot=True, fmt=\".3f\", linewidths=.5, cbar=True)\n",
    "plt.show()"
   ]
  },
  {
   "cell_type": "markdown",
   "id": "36f0f06b",
   "metadata": {},
   "source": [
    "# Linear Regression (Extension 2)"
   ]
  },
  {
   "cell_type": "code",
   "execution_count": 160,
   "id": "8655cb06",
   "metadata": {},
   "outputs": [],
   "source": [
    "from sklearn.linear_model import LogisticRegression\n",
    "from sklearn.model_selection import train_test_split\n",
    "from sklearn import linear_model"
   ]
  },
  {
   "cell_type": "code",
   "execution_count": 191,
   "id": "4034e49e",
   "metadata": {},
   "outputs": [],
   "source": [
    "model = linear_model.LinearRegression()"
   ]
  },
  {
   "cell_type": "code",
   "execution_count": 228,
   "id": "5634779c",
   "metadata": {},
   "outputs": [],
   "source": [
    "X = df.drop([\"Inflation_rate\"], axis=1)\n",
    "y = df['Inflation_rate']\n",
    "X_train, X_test, y_train, y_test = train_test_split(X, y, train_size=0.6, random_state=521)"
   ]
  },
  {
   "cell_type": "code",
   "execution_count": 229,
   "id": "761ca7ec",
   "metadata": {},
   "outputs": [
    {
     "data": {
      "text/plain": [
       "LinearRegression()"
      ]
     },
     "execution_count": 229,
     "metadata": {},
     "output_type": "execute_result"
    }
   ],
   "source": [
    "model.fit(X_train,y_train)"
   ]
  },
  {
   "cell_type": "code",
   "execution_count": 253,
   "id": "af242d6f",
   "metadata": {},
   "outputs": [
    {
     "data": {
      "text/plain": [
       "2925.24"
      ]
     },
     "execution_count": 253,
     "metadata": {},
     "output_type": "execute_result"
    }
   ],
   "source": [
    "model.intercept_.round(2)"
   ]
  },
  {
   "cell_type": "code",
   "execution_count": 249,
   "id": "cb0b0c5e",
   "metadata": {},
   "outputs": [],
   "source": [
    "y_pred_mlr = model.predict(X_test)"
   ]
  },
  {
   "cell_type": "code",
   "execution_count": 254,
   "id": "c970d087",
   "metadata": {},
   "outputs": [
    {
     "data": {
      "text/plain": [
       "0.9792"
      ]
     },
     "execution_count": 254,
     "metadata": {},
     "output_type": "execute_result"
    }
   ],
   "source": [
    "model.score(X_test, y_test).round(4)"
   ]
  },
  {
   "cell_type": "markdown",
   "id": "0c072e3b",
   "metadata": {},
   "source": [
    "### Model Evaluation"
   ]
  },
  {
   "cell_type": "code",
   "execution_count": 252,
   "id": "b4040547",
   "metadata": {},
   "outputs": [
    {
     "name": "stdout",
     "output_type": "stream",
     "text": [
      "R squared: 97.96\n",
      "Mean Absolute Error: 2.8018035586434515\n",
      "Mean Square Error: 14.830196951330903\n",
      "Root Mean Square Error: 3.850999474335319\n"
     ]
    }
   ],
   "source": [
    "from sklearn import metrics\n",
    "meanAbErr = metrics.mean_absolute_error(y_test, y_pred_mlr)\n",
    "meanSqErr = metrics.mean_squared_error(y_test, y_pred_mlr)\n",
    "rootMeanSqErr = np.sqrt(metrics.mean_squared_error(y_test, y_pred_mlr))\n",
    "print('R squared: {:.2f}'.format(model.score(X,y)*100))\n",
    "print('Mean Absolute Error:', meanAbErr)\n",
    "print('Mean Square Error:', meanSqErr)\n",
    "print('Root Mean Square Error:', rootMeanSqErr)\n"
   ]
  },
  {
   "cell_type": "markdown",
   "id": "eebee09e",
   "metadata": {},
   "source": [
    "## Clustering(Extension 3)"
   ]
  },
  {
   "cell_type": "code",
   "execution_count": 161,
   "id": "521dddf6",
   "metadata": {},
   "outputs": [],
   "source": [
    "import scipy.stats as stats\n",
    "from sklearn.cluster import KMeans\n",
    "from sklearn.preprocessing import StandardScaler\n",
    "%matplotlib inline\n",
    "from scipy.stats import chisquare"
   ]
  },
  {
   "cell_type": "code",
   "execution_count": 177,
   "id": "040664da",
   "metadata": {},
   "outputs": [],
   "source": [
    "dff = df.drop(['Year'], axis=1)"
   ]
  },
  {
   "cell_type": "code",
   "execution_count": 178,
   "id": "392ab5b5",
   "metadata": {},
   "outputs": [
    {
     "data": {
      "text/html": [
       "<div>\n",
       "<style scoped>\n",
       "    .dataframe tbody tr th:only-of-type {\n",
       "        vertical-align: middle;\n",
       "    }\n",
       "\n",
       "    .dataframe tbody tr th {\n",
       "        vertical-align: top;\n",
       "    }\n",
       "\n",
       "    .dataframe thead th {\n",
       "        text-align: right;\n",
       "    }\n",
       "</style>\n",
       "<table border=\"1\" class=\"dataframe\">\n",
       "  <thead>\n",
       "    <tr style=\"text-align: right;\">\n",
       "      <th></th>\n",
       "      <th>Price_wheat_ton</th>\n",
       "      <th>Price_rice_ton</th>\n",
       "      <th>Price_corn_ton</th>\n",
       "      <th>Inflation_rate</th>\n",
       "      <th>Price_wheat_ton_infl</th>\n",
       "      <th>Price_rice_ton_infl</th>\n",
       "      <th>Price_corn_ton_infl</th>\n",
       "    </tr>\n",
       "  </thead>\n",
       "  <tbody>\n",
       "    <tr>\n",
       "      <th>0</th>\n",
       "      <td>-0.23</td>\n",
       "      <td>-0.65</td>\n",
       "      <td>-0.67</td>\n",
       "      <td>2.01</td>\n",
       "      <td>1.24</td>\n",
       "      <td>0.40</td>\n",
       "      <td>0.23</td>\n",
       "    </tr>\n",
       "    <tr>\n",
       "      <th>1</th>\n",
       "      <td>-0.37</td>\n",
       "      <td>-0.66</td>\n",
       "      <td>-0.62</td>\n",
       "      <td>2.01</td>\n",
       "      <td>0.99</td>\n",
       "      <td>0.39</td>\n",
       "      <td>0.33</td>\n",
       "    </tr>\n",
       "    <tr>\n",
       "      <th>2</th>\n",
       "      <td>-0.50</td>\n",
       "      <td>-0.66</td>\n",
       "      <td>-0.75</td>\n",
       "      <td>2.01</td>\n",
       "      <td>0.75</td>\n",
       "      <td>0.40</td>\n",
       "      <td>0.07</td>\n",
       "    </tr>\n",
       "    <tr>\n",
       "      <th>3</th>\n",
       "      <td>-0.70</td>\n",
       "      <td>-0.69</td>\n",
       "      <td>-0.73</td>\n",
       "      <td>2.01</td>\n",
       "      <td>0.36</td>\n",
       "      <td>0.34</td>\n",
       "      <td>0.11</td>\n",
       "    </tr>\n",
       "    <tr>\n",
       "      <th>4</th>\n",
       "      <td>-0.69</td>\n",
       "      <td>-0.73</td>\n",
       "      <td>-0.71</td>\n",
       "      <td>2.01</td>\n",
       "      <td>0.37</td>\n",
       "      <td>0.27</td>\n",
       "      <td>0.15</td>\n",
       "    </tr>\n",
       "  </tbody>\n",
       "</table>\n",
       "</div>"
      ],
      "text/plain": [
       "   Price_wheat_ton  Price_rice_ton  Price_corn_ton  Inflation_rate  \\\n",
       "0            -0.23           -0.65           -0.67            2.01   \n",
       "1            -0.37           -0.66           -0.62            2.01   \n",
       "2            -0.50           -0.66           -0.75            2.01   \n",
       "3            -0.70           -0.69           -0.73            2.01   \n",
       "4            -0.69           -0.73           -0.71            2.01   \n",
       "\n",
       "   Price_wheat_ton_infl  Price_rice_ton_infl  Price_corn_ton_infl  \n",
       "0                  1.24                 0.40                 0.23  \n",
       "1                  0.99                 0.39                 0.33  \n",
       "2                  0.75                 0.40                 0.07  \n",
       "3                  0.36                 0.34                 0.11  \n",
       "4                  0.37                 0.27                 0.15  "
      ]
     },
     "execution_count": 178,
     "metadata": {},
     "output_type": "execute_result"
    }
   ],
   "source": [
    "Scaler = StandardScaler()\n",
    "Scaler.fit(dff)\n",
    "dfc = Scaler.transform(dff)\n",
    "dfc = pd.DataFrame(data=dfc, index=dff.index, columns=dff.columns)\n",
    "dfc.head().round(2)"
   ]
  },
  {
   "cell_type": "code",
   "execution_count": 179,
   "id": "e860b0c3",
   "metadata": {},
   "outputs": [
    {
     "data": {
      "text/html": [
       "<div>\n",
       "<style scoped>\n",
       "    .dataframe tbody tr th:only-of-type {\n",
       "        vertical-align: middle;\n",
       "    }\n",
       "\n",
       "    .dataframe tbody tr th {\n",
       "        vertical-align: top;\n",
       "    }\n",
       "\n",
       "    .dataframe thead th {\n",
       "        text-align: right;\n",
       "    }\n",
       "</style>\n",
       "<table border=\"1\" class=\"dataframe\">\n",
       "  <thead>\n",
       "    <tr style=\"text-align: right;\">\n",
       "      <th></th>\n",
       "      <th>sum</th>\n",
       "    </tr>\n",
       "  </thead>\n",
       "  <tbody>\n",
       "    <tr>\n",
       "      <th>count</th>\n",
       "      <td>359.00</td>\n",
       "    </tr>\n",
       "    <tr>\n",
       "      <th>mean</th>\n",
       "      <td>704.40</td>\n",
       "    </tr>\n",
       "    <tr>\n",
       "      <th>std</th>\n",
       "      <td>242.24</td>\n",
       "    </tr>\n",
       "    <tr>\n",
       "      <th>min</th>\n",
       "      <td>348.73</td>\n",
       "    </tr>\n",
       "    <tr>\n",
       "      <th>25%</th>\n",
       "      <td>502.02</td>\n",
       "    </tr>\n",
       "    <tr>\n",
       "      <th>50%</th>\n",
       "      <td>695.48</td>\n",
       "    </tr>\n",
       "    <tr>\n",
       "      <th>75%</th>\n",
       "      <td>866.16</td>\n",
       "    </tr>\n",
       "    <tr>\n",
       "      <th>max</th>\n",
       "      <td>1476.87</td>\n",
       "    </tr>\n",
       "  </tbody>\n",
       "</table>\n",
       "</div>"
      ],
      "text/plain": [
       "           sum\n",
       "count   359.00\n",
       "mean    704.40\n",
       "std     242.24\n",
       "min     348.73\n",
       "25%     502.02\n",
       "50%     695.48\n",
       "75%     866.16\n",
       "max    1476.87"
      ]
     },
     "execution_count": 179,
     "metadata": {},
     "output_type": "execute_result"
    }
   ],
   "source": [
    "data_normalized.describe().round(2)"
   ]
  },
  {
   "cell_type": "code",
   "execution_count": 180,
   "id": "71a874d1",
   "metadata": {},
   "outputs": [
    {
     "name": "stderr",
     "output_type": "stream",
     "text": [
      "C:\\Users\\18329\\anaconda3\\lib\\site-packages\\sklearn\\cluster\\_kmeans.py:881: UserWarning: KMeans is known to have a memory leak on Windows with MKL, when there are less chunks than available threads. You can avoid it by setting the environment variable OMP_NUM_THREADS=2.\n",
      "  warnings.warn(\n"
     ]
    },
    {
     "data": {
      "image/png": "[encoded data removed]",
      "text/plain": [
       "<Figure size 432x288 with 1 Axes>"
      ]
     },
     "metadata": {
      "needs_background": "light"
     },
     "output_type": "display_data"
    }
   ],
   "source": [
    "sse = {}\n",
    "for k in range(1, 10): \n",
    " kmeans = KMeans(n_clusters=k, random_state=521)\n",
    " kmeans.fit(dfc)\n",
    " sse[k] = kmeans.inertia_\n",
    "plt.title('The Elbow Method')\n",
    "plt.xlabel('k')\n",
    "plt.ylabel('SSE')\n",
    "sns.pointplot(x=list(sse.keys()), y=list(sse.values()));"
   ]
  },
  {
   "cell_type": "code",
   "execution_count": 241,
   "id": "f7eb44e2",
   "metadata": {},
   "outputs": [],
   "source": [
    "model1 = KMeans(n_clusters = 5, random_state=521)\n",
    "model1.fit(dfc)\n",
    "labels = model1.predict(dfc)"
   ]
  },
  {
   "cell_type": "code",
   "execution_count": 242,
   "id": "3aa7b571",
   "metadata": {},
   "outputs": [
    {
     "data": {
      "text/html": [
       "<div>\n",
       "<style scoped>\n",
       "    .dataframe tbody tr th:only-of-type {\n",
       "        vertical-align: middle;\n",
       "    }\n",
       "\n",
       "    .dataframe tbody tr th {\n",
       "        vertical-align: top;\n",
       "    }\n",
       "\n",
       "    .dataframe thead th {\n",
       "        text-align: right;\n",
       "    }\n",
       "</style>\n",
       "<table border=\"1\" class=\"dataframe\">\n",
       "  <thead>\n",
       "    <tr style=\"text-align: right;\">\n",
       "      <th></th>\n",
       "      <th>Price_wheat_ton</th>\n",
       "      <th>Price_rice_ton</th>\n",
       "      <th>Price_corn_ton</th>\n",
       "      <th>Inflation_rate</th>\n",
       "      <th>Price_wheat_ton_infl</th>\n",
       "      <th>Price_rice_ton_infl</th>\n",
       "      <th>Price_corn_ton_infl</th>\n",
       "    </tr>\n",
       "  </thead>\n",
       "  <tbody>\n",
       "    <tr>\n",
       "      <th>0</th>\n",
       "      <td>-0.234287</td>\n",
       "      <td>-0.654462</td>\n",
       "      <td>-0.669862</td>\n",
       "      <td>2.007937</td>\n",
       "      <td>1.242117</td>\n",
       "      <td>0.400975</td>\n",
       "      <td>0.230666</td>\n",
       "    </tr>\n",
       "    <tr>\n",
       "      <th>1</th>\n",
       "      <td>-0.368229</td>\n",
       "      <td>-0.662466</td>\n",
       "      <td>-0.615803</td>\n",
       "      <td>2.007937</td>\n",
       "      <td>0.989092</td>\n",
       "      <td>0.386057</td>\n",
       "      <td>0.334799</td>\n",
       "    </tr>\n",
       "    <tr>\n",
       "      <th>2</th>\n",
       "      <td>-0.497386</td>\n",
       "      <td>-0.656368</td>\n",
       "      <td>-0.751430</td>\n",
       "      <td>2.007937</td>\n",
       "      <td>0.745290</td>\n",
       "      <td>0.397451</td>\n",
       "      <td>0.073574</td>\n",
       "    </tr>\n",
       "    <tr>\n",
       "      <th>3</th>\n",
       "      <td>-0.703390</td>\n",
       "      <td>-0.686859</td>\n",
       "      <td>-0.733517</td>\n",
       "      <td>2.007937</td>\n",
       "      <td>0.356222</td>\n",
       "      <td>0.340632</td>\n",
       "      <td>0.108176</td>\n",
       "    </tr>\n",
       "    <tr>\n",
       "      <th>4</th>\n",
       "      <td>-0.693514</td>\n",
       "      <td>-0.726498</td>\n",
       "      <td>-0.713365</td>\n",
       "      <td>2.007937</td>\n",
       "      <td>0.374822</td>\n",
       "      <td>0.266721</td>\n",
       "      <td>0.147003</td>\n",
       "    </tr>\n",
       "  </tbody>\n",
       "</table>\n",
       "</div>"
      ],
      "text/plain": [
       "   Price_wheat_ton  Price_rice_ton  Price_corn_ton  Inflation_rate  \\\n",
       "0        -0.234287       -0.654462       -0.669862        2.007937   \n",
       "1        -0.368229       -0.662466       -0.615803        2.007937   \n",
       "2        -0.497386       -0.656368       -0.751430        2.007937   \n",
       "3        -0.703390       -0.686859       -0.733517        2.007937   \n",
       "4        -0.693514       -0.726498       -0.713365        2.007937   \n",
       "\n",
       "   Price_wheat_ton_infl  Price_rice_ton_infl  Price_corn_ton_infl  \n",
       "0              1.242117             0.400975             0.230666  \n",
       "1              0.989092             0.386057             0.334799  \n",
       "2              0.745290             0.397451             0.073574  \n",
       "3              0.356222             0.340632             0.108176  \n",
       "4              0.374822             0.266721             0.147003  "
      ]
     },
     "execution_count": 242,
     "metadata": {},
     "output_type": "execute_result"
    }
   ],
   "source": [
    "dfc.head()\n"
   ]
  },
  {
   "cell_type": "code",
   "execution_count": 243,
   "id": "02a44b8d",
   "metadata": {},
   "outputs": [
    {
     "data": {
      "text/html": [
       "<div>\n",
       "<style scoped>\n",
       "    .dataframe tbody tr th:only-of-type {\n",
       "        vertical-align: middle;\n",
       "    }\n",
       "\n",
       "    .dataframe tbody tr th {\n",
       "        vertical-align: top;\n",
       "    }\n",
       "\n",
       "    .dataframe thead th {\n",
       "        text-align: right;\n",
       "    }\n",
       "</style>\n",
       "<table border=\"1\" class=\"dataframe\">\n",
       "  <thead>\n",
       "    <tr style=\"text-align: right;\">\n",
       "      <th></th>\n",
       "      <th>Price_wheat_ton</th>\n",
       "      <th>Price_rice_ton</th>\n",
       "      <th>Price_corn_ton</th>\n",
       "      <th>Inflation_rate</th>\n",
       "      <th>Price_wheat_ton_infl</th>\n",
       "      <th>Price_rice_ton_infl</th>\n",
       "      <th>Price_corn_ton_infl</th>\n",
       "    </tr>\n",
       "    <tr>\n",
       "      <th>Cluster</th>\n",
       "      <th></th>\n",
       "      <th></th>\n",
       "      <th></th>\n",
       "      <th></th>\n",
       "      <th></th>\n",
       "      <th></th>\n",
       "      <th></th>\n",
       "    </tr>\n",
       "  </thead>\n",
       "  <tbody>\n",
       "    <tr>\n",
       "      <th>0</th>\n",
       "      <td>-0.57</td>\n",
       "      <td>-0.56</td>\n",
       "      <td>-0.61</td>\n",
       "      <td>1.50</td>\n",
       "      <td>0.30</td>\n",
       "      <td>0.27</td>\n",
       "      <td>0.08</td>\n",
       "    </tr>\n",
       "    <tr>\n",
       "      <th>1</th>\n",
       "      <td>1.50</td>\n",
       "      <td>0.46</td>\n",
       "      <td>1.01</td>\n",
       "      <td>-0.81</td>\n",
       "      <td>1.26</td>\n",
       "      <td>0.06</td>\n",
       "      <td>0.75</td>\n",
       "    </tr>\n",
       "    <tr>\n",
       "      <th>2</th>\n",
       "      <td>-0.97</td>\n",
       "      <td>-1.01</td>\n",
       "      <td>-0.91</td>\n",
       "      <td>0.42</td>\n",
       "      <td>-0.96</td>\n",
       "      <td>-1.00</td>\n",
       "      <td>-0.92</td>\n",
       "    </tr>\n",
       "    <tr>\n",
       "      <th>3</th>\n",
       "      <td>0.19</td>\n",
       "      <td>0.53</td>\n",
       "      <td>0.15</td>\n",
       "      <td>-0.88</td>\n",
       "      <td>-0.29</td>\n",
       "      <td>0.11</td>\n",
       "      <td>-0.26</td>\n",
       "    </tr>\n",
       "    <tr>\n",
       "      <th>4</th>\n",
       "      <td>1.58</td>\n",
       "      <td>1.69</td>\n",
       "      <td>2.06</td>\n",
       "      <td>-0.69</td>\n",
       "      <td>1.50</td>\n",
       "      <td>1.63</td>\n",
       "      <td>2.17</td>\n",
       "    </tr>\n",
       "  </tbody>\n",
       "</table>\n",
       "</div>"
      ],
      "text/plain": [
       "         Price_wheat_ton  Price_rice_ton  Price_corn_ton  Inflation_rate  \\\n",
       "Cluster                                                                    \n",
       "0                  -0.57           -0.56           -0.61            1.50   \n",
       "1                   1.50            0.46            1.01           -0.81   \n",
       "2                  -0.97           -1.01           -0.91            0.42   \n",
       "3                   0.19            0.53            0.15           -0.88   \n",
       "4                   1.58            1.69            2.06           -0.69   \n",
       "\n",
       "         Price_wheat_ton_infl  Price_rice_ton_infl  Price_corn_ton_infl  \n",
       "Cluster                                                                  \n",
       "0                        0.30                 0.27                 0.08  \n",
       "1                        1.26                 0.06                 0.75  \n",
       "2                       -0.96                -1.00                -0.92  \n",
       "3                       -0.29                 0.11                -0.26  \n",
       "4                        1.50                 1.63                 2.17  "
      ]
     },
     "execution_count": 243,
     "metadata": {},
     "output_type": "execute_result"
    }
   ],
   "source": [
    "kmeans2 = dfc.assign(Cluster = labels)\n",
    "kmeans2.groupby(['Cluster']).agg({\n",
    "'Price_wheat_ton': 'mean',\n",
    "'Price_rice_ton': 'mean',\n",
    "'Price_corn_ton': 'mean',\n",
    "'Inflation_rate': 'mean',\n",
    "'Price_wheat_ton_infl': 'mean',\n",
    "'Price_rice_ton_infl': 'mean',\n",
    "'Price_corn_ton_infl': 'mean',\n",
    "}).round(2)"
   ]
  },
  {
   "cell_type": "code",
   "execution_count": 244,
   "id": "f817decc",
   "metadata": {},
   "outputs": [
    {
     "data": {
      "text/html": [
       "<div>\n",
       "<style scoped>\n",
       "    .dataframe tbody tr th:only-of-type {\n",
       "        vertical-align: middle;\n",
       "    }\n",
       "\n",
       "    .dataframe tbody tr th {\n",
       "        vertical-align: top;\n",
       "    }\n",
       "\n",
       "    .dataframe thead th {\n",
       "        text-align: right;\n",
       "    }\n",
       "</style>\n",
       "<table border=\"1\" class=\"dataframe\">\n",
       "  <thead>\n",
       "    <tr style=\"text-align: right;\">\n",
       "      <th></th>\n",
       "      <th>Price_wheat_ton</th>\n",
       "      <th>Price_rice_ton</th>\n",
       "      <th>Price_corn_ton</th>\n",
       "      <th>Inflation_rate</th>\n",
       "      <th>Price_wheat_ton_infl</th>\n",
       "      <th>Price_rice_ton_infl</th>\n",
       "      <th>Price_corn_ton_infl</th>\n",
       "      <th>Cluster</th>\n",
       "    </tr>\n",
       "  </thead>\n",
       "  <tbody>\n",
       "    <tr>\n",
       "      <th>0</th>\n",
       "      <td>-0.234287</td>\n",
       "      <td>-0.654462</td>\n",
       "      <td>-0.669862</td>\n",
       "      <td>2.007937</td>\n",
       "      <td>1.242117</td>\n",
       "      <td>0.400975</td>\n",
       "      <td>0.230666</td>\n",
       "      <td>0</td>\n",
       "    </tr>\n",
       "    <tr>\n",
       "      <th>1</th>\n",
       "      <td>-0.368229</td>\n",
       "      <td>-0.662466</td>\n",
       "      <td>-0.615803</td>\n",
       "      <td>2.007937</td>\n",
       "      <td>0.989092</td>\n",
       "      <td>0.386057</td>\n",
       "      <td>0.334799</td>\n",
       "      <td>0</td>\n",
       "    </tr>\n",
       "    <tr>\n",
       "      <th>2</th>\n",
       "      <td>-0.497386</td>\n",
       "      <td>-0.656368</td>\n",
       "      <td>-0.751430</td>\n",
       "      <td>2.007937</td>\n",
       "      <td>0.745290</td>\n",
       "      <td>0.397451</td>\n",
       "      <td>0.073574</td>\n",
       "      <td>0</td>\n",
       "    </tr>\n",
       "    <tr>\n",
       "      <th>3</th>\n",
       "      <td>-0.703390</td>\n",
       "      <td>-0.686859</td>\n",
       "      <td>-0.733517</td>\n",
       "      <td>2.007937</td>\n",
       "      <td>0.356222</td>\n",
       "      <td>0.340632</td>\n",
       "      <td>0.108176</td>\n",
       "      <td>0</td>\n",
       "    </tr>\n",
       "    <tr>\n",
       "      <th>4</th>\n",
       "      <td>-0.693514</td>\n",
       "      <td>-0.726498</td>\n",
       "      <td>-0.713365</td>\n",
       "      <td>2.007937</td>\n",
       "      <td>0.374822</td>\n",
       "      <td>0.266721</td>\n",
       "      <td>0.147003</td>\n",
       "      <td>0</td>\n",
       "    </tr>\n",
       "    <tr>\n",
       "      <th>5</th>\n",
       "      <td>-0.854460</td>\n",
       "      <td>-0.652556</td>\n",
       "      <td>-0.843714</td>\n",
       "      <td>2.007937</td>\n",
       "      <td>0.070761</td>\n",
       "      <td>0.404573</td>\n",
       "      <td>-0.104150</td>\n",
       "      <td>0</td>\n",
       "    </tr>\n",
       "    <tr>\n",
       "      <th>6</th>\n",
       "      <td>-1.026207</td>\n",
       "      <td>-0.711252</td>\n",
       "      <td>-0.936318</td>\n",
       "      <td>2.007937</td>\n",
       "      <td>-0.253590</td>\n",
       "      <td>0.295131</td>\n",
       "      <td>-0.282362</td>\n",
       "      <td>0</td>\n",
       "    </tr>\n",
       "    <tr>\n",
       "      <th>7</th>\n",
       "      <td>-0.830696</td>\n",
       "      <td>-0.816447</td>\n",
       "      <td>-0.918885</td>\n",
       "      <td>2.007937</td>\n",
       "      <td>0.115648</td>\n",
       "      <td>0.099035</td>\n",
       "      <td>-0.248897</td>\n",
       "      <td>0</td>\n",
       "    </tr>\n",
       "    <tr>\n",
       "      <th>8</th>\n",
       "      <td>-0.738882</td>\n",
       "      <td>-0.869807</td>\n",
       "      <td>-0.965907</td>\n",
       "      <td>2.007937</td>\n",
       "      <td>0.289046</td>\n",
       "      <td>-0.000438</td>\n",
       "      <td>-0.339383</td>\n",
       "      <td>0</td>\n",
       "    </tr>\n",
       "    <tr>\n",
       "      <th>9</th>\n",
       "      <td>-0.608952</td>\n",
       "      <td>-0.849987</td>\n",
       "      <td>-0.975983</td>\n",
       "      <td>2.007937</td>\n",
       "      <td>0.534538</td>\n",
       "      <td>0.036443</td>\n",
       "      <td>-0.358878</td>\n",
       "      <td>0</td>\n",
       "    </tr>\n",
       "  </tbody>\n",
       "</table>\n",
       "</div>"
      ],
      "text/plain": [
       "   Price_wheat_ton  Price_rice_ton  Price_corn_ton  Inflation_rate  \\\n",
       "0        -0.234287       -0.654462       -0.669862        2.007937   \n",
       "1        -0.368229       -0.662466       -0.615803        2.007937   \n",
       "2        -0.497386       -0.656368       -0.751430        2.007937   \n",
       "3        -0.703390       -0.686859       -0.733517        2.007937   \n",
       "4        -0.693514       -0.726498       -0.713365        2.007937   \n",
       "5        -0.854460       -0.652556       -0.843714        2.007937   \n",
       "6        -1.026207       -0.711252       -0.936318        2.007937   \n",
       "7        -0.830696       -0.816447       -0.918885        2.007937   \n",
       "8        -0.738882       -0.869807       -0.965907        2.007937   \n",
       "9        -0.608952       -0.849987       -0.975983        2.007937   \n",
       "\n",
       "   Price_wheat_ton_infl  Price_rice_ton_infl  Price_corn_ton_infl  Cluster  \n",
       "0              1.242117             0.400975             0.230666        0  \n",
       "1              0.989092             0.386057             0.334799        0  \n",
       "2              0.745290             0.397451             0.073574        0  \n",
       "3              0.356222             0.340632             0.108176        0  \n",
       "4              0.374822             0.266721             0.147003        0  \n",
       "5              0.070761             0.404573            -0.104150        0  \n",
       "6             -0.253590             0.295131            -0.282362        0  \n",
       "7              0.115648             0.099035            -0.248897        0  \n",
       "8              0.289046            -0.000438            -0.339383        0  \n",
       "9              0.534538             0.036443            -0.358878        0  "
      ]
     },
     "execution_count": 244,
     "metadata": {},
     "output_type": "execute_result"
    }
   ],
   "source": [
    "kmeans2.head(10)"
   ]
  },
  {
   "cell_type": "code",
   "execution_count": 245,
   "id": "579b5cdb",
   "metadata": {},
   "outputs": [],
   "source": [
    "kmeans2['Cluster'] = kmeans2['Cluster'].astype('category')"
   ]
  },
  {
   "cell_type": "code",
   "execution_count": 246,
   "id": "a9c662a3",
   "metadata": {},
   "outputs": [
    {
     "data": {
      "image/png": "[encoded data removed]",
      "text/plain": [
       "<Figure size 432x288 with 1 Axes>"
      ]
     },
     "metadata": {
      "needs_background": "light"
     },
     "output_type": "display_data"
    }
   ],
   "source": [
    "sns.barplot(x='Cluster', y='Inflation_rate', data=kmeans2);"
   ]
  },
  {
   "cell_type": "code",
   "execution_count": null,
   "id": "9d604a17",
   "metadata": {},
   "outputs": [],
   "source": []
  }
 ],
 "metadata": {
  "kernelspec": {
   "display_name": "Python 3 (ipykernel)",
   "language": "python",
   "name": "python3"
  },
  "language_info": {
   "codemirror_mode": {
    "name": "ipython",
    "version": 3
   },
   "file_extension": ".py",
   "mimetype": "text/x-python",
   "name": "python",
   "nbconvert_exporter": "python",
   "pygments_lexer": "ipython3",
   "version": "3.9.7"
  }
 },
 "nbformat": 4,
 "nbformat_minor": 5
}
